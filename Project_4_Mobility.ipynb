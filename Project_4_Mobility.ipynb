{
 "cells": [
  {
   "cell_type": "markdown",
   "metadata": {},
   "source": [
    "## Overview\n",
    "\n",
    "Since the moment covid-19 began to spread globally, countries have implemented several measeures in response. One of the aims of these measures is to restrict mobility to halt virus spread. This project investigates how mobility far did mobility go down for each population **from the end of Febreuary to May:\n"
   ]
  },
  {
   "cell_type": "markdown",
   "metadata": {},
   "source": [
    "## Problem Statement\n",
    "\n",
    "The problem posed by this project asks the following questions:\n",
    "\n",
    "***When was the timeline for each country when mobility reached a minumum?**\n",
    "\n",
    "***Which countries that had the greatest mobility decrease? Which of them had the least? Which reacted the earliest? And which reacted the latest?**\n",
    "\n",
    "***What are the patterns for each continent? And the continent's average minimum**\n",
    "\n",
    "***How does the change in mobility correlate with the number of coronavirus cases in the country?**\n"
   ]
  },
  {
   "cell_type": "markdown",
   "metadata": {},
   "source": [
    "## Metric\n",
    "\n",
    "**the metric for measuring the results obtained from the analysis of the data is the change in baseline for each day of the week, which is inherent in the structure of the dataset. Judgements will be made based on how different from baseline did every country have on each day.**\n",
    "\n",
    "**Specifically, we will look at the min value, which is the greatest negative change from baseline. This approach has its problems because it looks at a single date. Because something else could explain the change from baseline other than the pandemic this approach is not very accurate.**\n",
    "\n",
    "**Thus, another approach is employed as an improvement. a 7-day average is taken and then min week is determined. (min week in this case is the week with least mobility)**\n",
    "\n",
    "**There's one location type where max is computed instead of min, which is residential, since it indicates less mobility if people spend more time there.**\n",
    "\n",
    "**According to Google, \"Each day’s baseline is the median day-value from the 5-week period in January.\"**\n",
    "\n",
    "for more information visit this [link](https://support.google.com/covid19-mobility/checklist/9834261)\n",
    "\n"
   ]
  },
  {
   "cell_type": "code",
   "execution_count": 1,
   "metadata": {},
   "outputs": [],
   "source": [
    "import numpy as np\n",
    "import pandas as pd\n",
    "import matplotlib.pyplot as plt\n",
    "\n",
    "%matplotlib inline\n",
    "\n",
    "# read global mobility dataset\n",
    "mobil_df= pd.read_csv('Global_Mobility_Report.csv', dtype=str) # use str dtype to avoid warning messeage\n",
    "\n",
    "'''This project primarly focuses on mobil_df dataset'''\n",
    "\n",
    "# read coronavirus cases dataset\n",
    "cases_df= pd.read_csv('time_series_covid19_confirmed_global.csv')"
   ]
  },
  {
   "cell_type": "code",
   "execution_count": 2,
   "metadata": {},
   "outputs": [],
   "source": [
    "# for mobil_df\n",
    "\n",
    "# convert numeric cols to float64\n",
    "flt_cols=['retail_and_recreation_percent_change_from_baseline',\n",
    "       'grocery_and_pharmacy_percent_change_from_baseline',\n",
    "       'parks_percent_change_from_baseline',\n",
    "       'transit_stations_percent_change_from_baseline',\n",
    "       'workplaces_percent_change_from_baseline',\n",
    "       'residential_percent_change_from_baseline']"
   ]
  },
  {
   "cell_type": "code",
   "execution_count": 3,
   "metadata": {
    "scrolled": true
   },
   "outputs": [],
   "source": [
    "# convert \n",
    "mobil_df[flt_cols]=mobil_df[flt_cols].astype(float)"
   ]
  },
  {
   "cell_type": "markdown",
   "metadata": {},
   "source": [
    "## Analysis: Data Explorations and Visuals"
   ]
  },
  {
   "cell_type": "markdown",
   "metadata": {},
   "source": [
    "#### mobility dataset"
   ]
  },
  {
   "cell_type": "code",
   "execution_count": 4,
   "metadata": {
    "scrolled": true
   },
   "outputs": [
    {
     "data": {
      "text/html": [
       "<div>\n",
       "<style scoped>\n",
       "    .dataframe tbody tr th:only-of-type {\n",
       "        vertical-align: middle;\n",
       "    }\n",
       "\n",
       "    .dataframe tbody tr th {\n",
       "        vertical-align: top;\n",
       "    }\n",
       "\n",
       "    .dataframe thead th {\n",
       "        text-align: right;\n",
       "    }\n",
       "</style>\n",
       "<table border=\"1\" class=\"dataframe\">\n",
       "  <thead>\n",
       "    <tr style=\"text-align: right;\">\n",
       "      <th></th>\n",
       "      <th>country_region_code</th>\n",
       "      <th>country_region</th>\n",
       "      <th>sub_region_1</th>\n",
       "      <th>sub_region_2</th>\n",
       "      <th>date</th>\n",
       "      <th>retail_and_recreation_percent_change_from_baseline</th>\n",
       "      <th>grocery_and_pharmacy_percent_change_from_baseline</th>\n",
       "      <th>parks_percent_change_from_baseline</th>\n",
       "      <th>transit_stations_percent_change_from_baseline</th>\n",
       "      <th>workplaces_percent_change_from_baseline</th>\n",
       "      <th>residential_percent_change_from_baseline</th>\n",
       "    </tr>\n",
       "  </thead>\n",
       "  <tbody>\n",
       "    <tr>\n",
       "      <th>0</th>\n",
       "      <td>AE</td>\n",
       "      <td>United Arab Emirates</td>\n",
       "      <td>NaN</td>\n",
       "      <td>NaN</td>\n",
       "      <td>2020-02-15</td>\n",
       "      <td>0.0</td>\n",
       "      <td>4.0</td>\n",
       "      <td>5.0</td>\n",
       "      <td>0.0</td>\n",
       "      <td>2.0</td>\n",
       "      <td>1.0</td>\n",
       "    </tr>\n",
       "    <tr>\n",
       "      <th>1</th>\n",
       "      <td>AE</td>\n",
       "      <td>United Arab Emirates</td>\n",
       "      <td>NaN</td>\n",
       "      <td>NaN</td>\n",
       "      <td>2020-02-16</td>\n",
       "      <td>1.0</td>\n",
       "      <td>4.0</td>\n",
       "      <td>4.0</td>\n",
       "      <td>1.0</td>\n",
       "      <td>2.0</td>\n",
       "      <td>1.0</td>\n",
       "    </tr>\n",
       "    <tr>\n",
       "      <th>2</th>\n",
       "      <td>AE</td>\n",
       "      <td>United Arab Emirates</td>\n",
       "      <td>NaN</td>\n",
       "      <td>NaN</td>\n",
       "      <td>2020-02-17</td>\n",
       "      <td>-1.0</td>\n",
       "      <td>1.0</td>\n",
       "      <td>5.0</td>\n",
       "      <td>1.0</td>\n",
       "      <td>2.0</td>\n",
       "      <td>1.0</td>\n",
       "    </tr>\n",
       "    <tr>\n",
       "      <th>3</th>\n",
       "      <td>AE</td>\n",
       "      <td>United Arab Emirates</td>\n",
       "      <td>NaN</td>\n",
       "      <td>NaN</td>\n",
       "      <td>2020-02-18</td>\n",
       "      <td>-2.0</td>\n",
       "      <td>1.0</td>\n",
       "      <td>5.0</td>\n",
       "      <td>0.0</td>\n",
       "      <td>2.0</td>\n",
       "      <td>1.0</td>\n",
       "    </tr>\n",
       "    <tr>\n",
       "      <th>4</th>\n",
       "      <td>AE</td>\n",
       "      <td>United Arab Emirates</td>\n",
       "      <td>NaN</td>\n",
       "      <td>NaN</td>\n",
       "      <td>2020-02-19</td>\n",
       "      <td>-2.0</td>\n",
       "      <td>0.0</td>\n",
       "      <td>4.0</td>\n",
       "      <td>-1.0</td>\n",
       "      <td>2.0</td>\n",
       "      <td>1.0</td>\n",
       "    </tr>\n",
       "  </tbody>\n",
       "</table>\n",
       "</div>"
      ],
      "text/plain": [
       "  country_region_code        country_region sub_region_1 sub_region_2  \\\n",
       "0                  AE  United Arab Emirates          NaN          NaN   \n",
       "1                  AE  United Arab Emirates          NaN          NaN   \n",
       "2                  AE  United Arab Emirates          NaN          NaN   \n",
       "3                  AE  United Arab Emirates          NaN          NaN   \n",
       "4                  AE  United Arab Emirates          NaN          NaN   \n",
       "\n",
       "         date  retail_and_recreation_percent_change_from_baseline  \\\n",
       "0  2020-02-15                                                0.0    \n",
       "1  2020-02-16                                                1.0    \n",
       "2  2020-02-17                                               -1.0    \n",
       "3  2020-02-18                                               -2.0    \n",
       "4  2020-02-19                                               -2.0    \n",
       "\n",
       "   grocery_and_pharmacy_percent_change_from_baseline  \\\n",
       "0                                                4.0   \n",
       "1                                                4.0   \n",
       "2                                                1.0   \n",
       "3                                                1.0   \n",
       "4                                                0.0   \n",
       "\n",
       "   parks_percent_change_from_baseline  \\\n",
       "0                                 5.0   \n",
       "1                                 4.0   \n",
       "2                                 5.0   \n",
       "3                                 5.0   \n",
       "4                                 4.0   \n",
       "\n",
       "   transit_stations_percent_change_from_baseline  \\\n",
       "0                                            0.0   \n",
       "1                                            1.0   \n",
       "2                                            1.0   \n",
       "3                                            0.0   \n",
       "4                                           -1.0   \n",
       "\n",
       "   workplaces_percent_change_from_baseline  \\\n",
       "0                                      2.0   \n",
       "1                                      2.0   \n",
       "2                                      2.0   \n",
       "3                                      2.0   \n",
       "4                                      2.0   \n",
       "\n",
       "   residential_percent_change_from_baseline  \n",
       "0                                       1.0  \n",
       "1                                       1.0  \n",
       "2                                       1.0  \n",
       "3                                       1.0  \n",
       "4                                       1.0  "
      ]
     },
     "execution_count": 4,
     "metadata": {},
     "output_type": "execute_result"
    }
   ],
   "source": [
    "# take a brief look into the data - starting with mobil_df\n",
    "mobil_df.head()"
   ]
  },
  {
   "cell_type": "code",
   "execution_count": 5,
   "metadata": {},
   "outputs": [
    {
     "data": {
      "text/plain": [
       "(335463, 11)"
      ]
     },
     "execution_count": 5,
     "metadata": {},
     "output_type": "execute_result"
    }
   ],
   "source": [
    "#How many rows and columns in the dataset\n",
    "mobil_df.shape"
   ]
  },
  {
   "cell_type": "code",
   "execution_count": 6,
   "metadata": {
    "scrolled": true
   },
   "outputs": [
    {
     "data": {
      "text/html": [
       "<div>\n",
       "<style scoped>\n",
       "    .dataframe tbody tr th:only-of-type {\n",
       "        vertical-align: middle;\n",
       "    }\n",
       "\n",
       "    .dataframe tbody tr th {\n",
       "        vertical-align: top;\n",
       "    }\n",
       "\n",
       "    .dataframe thead th {\n",
       "        text-align: right;\n",
       "    }\n",
       "</style>\n",
       "<table border=\"1\" class=\"dataframe\">\n",
       "  <thead>\n",
       "    <tr style=\"text-align: right;\">\n",
       "      <th></th>\n",
       "      <th>retail_and_recreation_percent_change_from_baseline</th>\n",
       "      <th>grocery_and_pharmacy_percent_change_from_baseline</th>\n",
       "      <th>parks_percent_change_from_baseline</th>\n",
       "      <th>transit_stations_percent_change_from_baseline</th>\n",
       "      <th>workplaces_percent_change_from_baseline</th>\n",
       "      <th>residential_percent_change_from_baseline</th>\n",
       "    </tr>\n",
       "  </thead>\n",
       "  <tbody>\n",
       "    <tr>\n",
       "      <th>count</th>\n",
       "      <td>271455.000000</td>\n",
       "      <td>262967.000000</td>\n",
       "      <td>145344.000000</td>\n",
       "      <td>178686.000000</td>\n",
       "      <td>324200.00000</td>\n",
       "      <td>187899.000000</td>\n",
       "    </tr>\n",
       "    <tr>\n",
       "      <th>mean</th>\n",
       "      <td>-21.861108</td>\n",
       "      <td>-5.357973</td>\n",
       "      <td>-4.975465</td>\n",
       "      <td>-25.835314</td>\n",
       "      <td>-23.71058</td>\n",
       "      <td>10.510381</td>\n",
       "    </tr>\n",
       "    <tr>\n",
       "      <th>std</th>\n",
       "      <td>29.679703</td>\n",
       "      <td>20.609216</td>\n",
       "      <td>43.041619</td>\n",
       "      <td>30.029217</td>\n",
       "      <td>22.19228</td>\n",
       "      <td>9.852773</td>\n",
       "    </tr>\n",
       "    <tr>\n",
       "      <th>min</th>\n",
       "      <td>-100.000000</td>\n",
       "      <td>-100.000000</td>\n",
       "      <td>-100.000000</td>\n",
       "      <td>-100.000000</td>\n",
       "      <td>-94.00000</td>\n",
       "      <td>-25.000000</td>\n",
       "    </tr>\n",
       "    <tr>\n",
       "      <th>25%</th>\n",
       "      <td>-42.000000</td>\n",
       "      <td>-15.000000</td>\n",
       "      <td>-33.000000</td>\n",
       "      <td>-51.000000</td>\n",
       "      <td>-39.00000</td>\n",
       "      <td>1.000000</td>\n",
       "    </tr>\n",
       "    <tr>\n",
       "      <th>50%</th>\n",
       "      <td>-19.000000</td>\n",
       "      <td>-2.000000</td>\n",
       "      <td>-5.000000</td>\n",
       "      <td>-22.000000</td>\n",
       "      <td>-26.00000</td>\n",
       "      <td>11.000000</td>\n",
       "    </tr>\n",
       "    <tr>\n",
       "      <th>75%</th>\n",
       "      <td>3.000000</td>\n",
       "      <td>6.000000</td>\n",
       "      <td>16.000000</td>\n",
       "      <td>0.000000</td>\n",
       "      <td>-1.00000</td>\n",
       "      <td>18.000000</td>\n",
       "    </tr>\n",
       "    <tr>\n",
       "      <th>max</th>\n",
       "      <td>313.000000</td>\n",
       "      <td>337.000000</td>\n",
       "      <td>430.000000</td>\n",
       "      <td>497.000000</td>\n",
       "      <td>248.00000</td>\n",
       "      <td>55.000000</td>\n",
       "    </tr>\n",
       "  </tbody>\n",
       "</table>\n",
       "</div>"
      ],
      "text/plain": [
       "       retail_and_recreation_percent_change_from_baseline  \\\n",
       "count                                      271455.000000    \n",
       "mean                                          -21.861108    \n",
       "std                                            29.679703    \n",
       "min                                          -100.000000    \n",
       "25%                                           -42.000000    \n",
       "50%                                           -19.000000    \n",
       "75%                                             3.000000    \n",
       "max                                           313.000000    \n",
       "\n",
       "       grocery_and_pharmacy_percent_change_from_baseline  \\\n",
       "count                                      262967.000000   \n",
       "mean                                           -5.357973   \n",
       "std                                            20.609216   \n",
       "min                                          -100.000000   \n",
       "25%                                           -15.000000   \n",
       "50%                                            -2.000000   \n",
       "75%                                             6.000000   \n",
       "max                                           337.000000   \n",
       "\n",
       "       parks_percent_change_from_baseline  \\\n",
       "count                       145344.000000   \n",
       "mean                            -4.975465   \n",
       "std                             43.041619   \n",
       "min                           -100.000000   \n",
       "25%                            -33.000000   \n",
       "50%                             -5.000000   \n",
       "75%                             16.000000   \n",
       "max                            430.000000   \n",
       "\n",
       "       transit_stations_percent_change_from_baseline  \\\n",
       "count                                  178686.000000   \n",
       "mean                                      -25.835314   \n",
       "std                                        30.029217   \n",
       "min                                      -100.000000   \n",
       "25%                                       -51.000000   \n",
       "50%                                       -22.000000   \n",
       "75%                                         0.000000   \n",
       "max                                       497.000000   \n",
       "\n",
       "       workplaces_percent_change_from_baseline  \\\n",
       "count                             324200.00000   \n",
       "mean                                 -23.71058   \n",
       "std                                   22.19228   \n",
       "min                                  -94.00000   \n",
       "25%                                  -39.00000   \n",
       "50%                                  -26.00000   \n",
       "75%                                   -1.00000   \n",
       "max                                  248.00000   \n",
       "\n",
       "       residential_percent_change_from_baseline  \n",
       "count                             187899.000000  \n",
       "mean                                  10.510381  \n",
       "std                                    9.852773  \n",
       "min                                  -25.000000  \n",
       "25%                                    1.000000  \n",
       "50%                                   11.000000  \n",
       "75%                                   18.000000  \n",
       "max                                   55.000000  "
      ]
     },
     "execution_count": 6,
     "metadata": {},
     "output_type": "execute_result"
    }
   ],
   "source": [
    "# Begin with some descriptive statistics of numerical cols in the dataset\n",
    "mobil_df.describe()"
   ]
  },
  {
   "cell_type": "code",
   "execution_count": 7,
   "metadata": {},
   "outputs": [],
   "source": [
    "des=mobil_df.describe()"
   ]
  },
  {
   "cell_type": "code",
   "execution_count": 8,
   "metadata": {},
   "outputs": [],
   "source": [
    "# remove '_percent_change_from_baseline' from col names to obtain better looking graphs\n",
    "\n",
    "strip=lambda col_str: col_str.replace('_percent_change_from_baseline', '')\n",
    "\n",
    "des.columns=list(map(strip, des.columns))"
   ]
  },
  {
   "cell_type": "code",
   "execution_count": 9,
   "metadata": {
    "scrolled": true
   },
   "outputs": [
    {
     "data": {
      "image/png": "[encoded data removed]",
      "text/plain": [
       "<Figure size 432x288 with 1 Axes>"
      ]
     },
     "metadata": {
      "needs_background": "light"
     },
     "output_type": "display_data"
    }
   ],
   "source": [
    "# mean of all vals for each col\n",
    "des.loc['mean'].plot.bar();"
   ]
  },
  {
   "cell_type": "code",
   "execution_count": 10,
   "metadata": {},
   "outputs": [
    {
     "data": {
      "image/png": "[encoded data removed]",
      "text/plain": [
       "<Figure size 432x288 with 1 Axes>"
      ]
     },
     "metadata": {
      "needs_background": "light"
     },
     "output_type": "display_data"
    }
   ],
   "source": [
    "# max val for numeric cols\n",
    "des.loc['max'].plot.bar();"
   ]
  },
  {
   "cell_type": "code",
   "execution_count": 11,
   "metadata": {},
   "outputs": [
    {
     "data": {
      "image/png": "[encoded data removed]",
      "text/plain": [
       "<Figure size 432x288 with 1 Axes>"
      ]
     },
     "metadata": {
      "needs_background": "light"
     },
     "output_type": "display_data"
    }
   ],
   "source": [
    "# min val for numeric cols\n",
    "des.loc['min'].plot.bar();"
   ]
  },
  {
   "cell_type": "code",
   "execution_count": 12,
   "metadata": {},
   "outputs": [
    {
     "data": {
      "text/plain": [
       "'parks'"
      ]
     },
     "execution_count": 12,
     "metadata": {},
     "output_type": "execute_result"
    }
   ],
   "source": [
    "# As observed from above, sample counts differ for each column\n",
    "\n",
    "# let's also look at the numerical col with the smallest count\n",
    "des.loc['count'].idxmin()"
   ]
  },
  {
   "cell_type": "code",
   "execution_count": 13,
   "metadata": {},
   "outputs": [
    {
     "data": {
      "text/plain": [
       "'workplaces'"
      ]
     },
     "execution_count": 13,
     "metadata": {},
     "output_type": "execute_result"
    }
   ],
   "source": [
    "# numerical col with the largest count\n",
    "des.loc['count'].idxmax()"
   ]
  },
  {
   "cell_type": "code",
   "execution_count": 14,
   "metadata": {
    "scrolled": false
   },
   "outputs": [
    {
     "data": {
      "text/plain": [
       "country_region_code                                       85\n",
       "country_region                                             0\n",
       "sub_region_1                                           11220\n",
       "sub_region_2                                          110756\n",
       "date                                                       0\n",
       "retail_and_recreation_percent_change_from_baseline     64008\n",
       "grocery_and_pharmacy_percent_change_from_baseline      72496\n",
       "parks_percent_change_from_baseline                    190119\n",
       "transit_stations_percent_change_from_baseline         156777\n",
       "workplaces_percent_change_from_baseline                11263\n",
       "residential_percent_change_from_baseline              147564\n",
       "dtype: int64"
      ]
     },
     "execution_count": 14,
     "metadata": {},
     "output_type": "execute_result"
    }
   ],
   "source": [
    "# here we look at the count of nans for all cols in the dataset\n",
    "\n",
    "#Only two cols (country_region and date) have no missing values\n",
    "mobil_df.isna().sum()"
   ]
  },
  {
   "cell_type": "code",
   "execution_count": 15,
   "metadata": {},
   "outputs": [
    {
     "data": {
      "text/plain": [
       "0         2020-02-15\n",
       "335462    2020-05-09\n",
       "Name: date, dtype: object"
      ]
     },
     "execution_count": 15,
     "metadata": {},
     "output_type": "execute_result"
    }
   ],
   "source": [
    "# the earliest and latest dates in the dataset (approx 3 months)\n",
    "mobil_df.date.iloc[[0,-1]]"
   ]
  },
  {
   "cell_type": "code",
   "execution_count": 16,
   "metadata": {},
   "outputs": [
    {
     "data": {
      "text/plain": [
       "132"
      ]
     },
     "execution_count": 16,
     "metadata": {},
     "output_type": "execute_result"
    }
   ],
   "source": [
    "# lets also explore the number of countries in the dataset\n",
    "len(set(mobil_df.country_region))"
   ]
  },
  {
   "cell_type": "code",
   "execution_count": 17,
   "metadata": {},
   "outputs": [
    {
     "data": {
      "text/plain": [
       "['Bahrain', 'Moldova', 'Trinidad and Tobago', 'Australia', 'Barbados']"
      ]
     },
     "execution_count": 17,
     "metadata": {},
     "output_type": "execute_result"
    }
   ],
   "source": [
    "# print 5 countries in the dataset\n",
    "list(set(mobil_df.country_region))[:5]"
   ]
  },
  {
   "cell_type": "code",
   "execution_count": 18,
   "metadata": {},
   "outputs": [
    {
     "data": {
      "text/plain": [
       "{'Namibia'}"
      ]
     },
     "execution_count": 18,
     "metadata": {},
     "output_type": "execute_result"
    }
   ],
   "source": [
    "# find the countries which had the missing country code\n",
    "set(mobil_df[mobil_df.country_region_code.isna()].country_region)"
   ]
  },
  {
   "cell_type": "code",
   "execution_count": 19,
   "metadata": {},
   "outputs": [],
   "source": [
    "''' The dataset starts with the country's statistics as a whole and then breaks it down by region. Some countries have \n",
    "more regions and subregions than others, and some countries don't have statistics broken by region. Hence, \n",
    "some countries have more rows in the dataset than others. Nonetheless, for the purpose of this project, \n",
    "countries' statistics will be looked at as a whole and not be broken by region'''\n",
    "\n",
    "# take a closer look at how rows are distributed for each country\n",
    "\n",
    "group_country= mobil_df.groupby(by='country_region')\n"
   ]
  },
  {
   "cell_type": "code",
   "execution_count": 20,
   "metadata": {
    "scrolled": true
   },
   "outputs": [
    {
     "data": {
      "text/plain": [
       "country_region\n",
       "United States      229127\n",
       "United Kingdom      12878\n",
       "Slovenia             4315\n",
       "Japan                4080\n",
       "Romania              3655\n",
       "                    ...  \n",
       "Nicaragua              85\n",
       "Niger                  85\n",
       "North Macedonia        85\n",
       "Oman                   85\n",
       "Afghanistan            85\n",
       "Length: 132, dtype: int64"
      ]
     },
     "execution_count": 20,
     "metadata": {},
     "output_type": "execute_result"
    }
   ],
   "source": [
    "group_country.size().sort_values(ascending=False)"
   ]
  },
  {
   "cell_type": "code",
   "execution_count": 21,
   "metadata": {
    "scrolled": true
   },
   "outputs": [
    {
     "data": {
      "image/png": "[encoded data removed]",
      "text/plain": [
       "<Figure size 432x288 with 1 Axes>"
      ]
     },
     "metadata": {},
     "output_type": "display_data"
    }
   ],
   "source": [
    "# as observed below, most rows belong to a single country (the US)\n",
    "plt.pie(group_country.size().values);"
   ]
  },
  {
   "cell_type": "code",
   "execution_count": 22,
   "metadata": {},
   "outputs": [],
   "source": [
    "#after processing the data, each county will have 85 rows (85 days to analyze)"
   ]
  },
  {
   "cell_type": "markdown",
   "metadata": {},
   "source": [
    "#### Cases Dataset"
   ]
  },
  {
   "cell_type": "code",
   "execution_count": 23,
   "metadata": {
    "scrolled": true
   },
   "outputs": [
    {
     "name": "stdout",
     "output_type": "stream",
     "text": [
      "1/22/20\n",
      "5/16/20\n"
     ]
    }
   ],
   "source": [
    "# Look at beginning and ending date\n",
    "\n",
    "# 1st date in dataset\n",
    "print(cases_df.columns[4])\n",
    "\n",
    "# last date in dataset\n",
    "print(cases_df.columns[-1])\n",
    "\n",
    "# As shown cases_df covers more dates, which goes from 15 Feb to 9 May"
   ]
  },
  {
   "cell_type": "code",
   "execution_count": 24,
   "metadata": {},
   "outputs": [
    {
     "data": {
      "text/plain": [
       "85"
      ]
     },
     "execution_count": 24,
     "metadata": {},
     "output_type": "execute_result"
    }
   ],
   "source": [
    "# check that duration for mobil_df start and end dates adds up to 85 days\n",
    "\n",
    "date_cols=list(cases_df.columns[4:])\n",
    "\n",
    "# start index\n",
    "ind_i=date_cols.index('2/15/20')\n",
    "\n",
    "# end index\n",
    "ind_f=date_cols.index('5/9/20')\n",
    "\n",
    "len(date_cols[ind_i:ind_f+1])\n",
    "\n",
    "# There are no dates skipped"
   ]
  },
  {
   "cell_type": "code",
   "execution_count": 25,
   "metadata": {},
   "outputs": [
    {
     "data": {
      "text/plain": [
       "188"
      ]
     },
     "execution_count": 25,
     "metadata": {},
     "output_type": "execute_result"
    }
   ],
   "source": [
    "# There are more countries in cases dataset\n",
    "len(set(cases_df['Country/Region']))"
   ]
  },
  {
   "cell_type": "code",
   "execution_count": 26,
   "metadata": {
    "scrolled": false
   },
   "outputs": [],
   "source": [
    "# check if all countries in mobil_df are present in cases_df\n",
    "\n",
    "# countries in cases_df\n",
    "cases_countries= list(set(cases_df['Country/Region']))\n",
    "\n",
    "#countries in mobil_df\n",
    "mobil_countries= list(set(mobil_df['country_region']))\n",
    "\n",
    "def match_countries(bigger_lst, smaller_lst):\n",
    "    \"\"\"\n",
    "    DESCRIPTION: returns elements in smaller list which did not occur in bigger list\n",
    "        \n",
    "    INPUT: bigger_lst - (list) list that contains country names\n",
    "           smaller_lst - (list) list that contains fewer country names \n",
    "        \n",
    "    OUTPUT: countries_not_found - (list) list of countries which were not found in bigger_lst\n",
    "    \"\"\"\n",
    "    \n",
    "    countries_not_found=[]\n",
    "\n",
    "    # print countries in mobil_df which have no match in cases_df\n",
    "    for country in smaller_lst:\n",
    "        if not(country in bigger_lst):\n",
    "            \n",
    "            countries_not_found.append(country)\n",
    "            \n",
    "    # if missing countries were found \n",
    "    if countries_not_found!=[]: \n",
    "        \n",
    "        # print them\n",
    "        print('The following countries were not found in cases_df:')\n",
    "        print(*countries_not_found)\n",
    "    \n",
    "    # sort to have the same order always\n",
    "    return sorted(countries_not_found)\n",
    "\n",
    "# these countries will be handled later in this project"
   ]
  },
  {
   "cell_type": "code",
   "execution_count": 27,
   "metadata": {},
   "outputs": [
    {
     "name": "stdout",
     "output_type": "stream",
     "text": [
      "The following countries were not found in cases_df:\n",
      "Myanmar (Burma) South Korea Hong Kong Réunion Cape Verde United States Puerto Rico Taiwan Côte d'Ivoire The Bahamas Aruba\n"
     ]
    }
   ],
   "source": [
    "countries_not_found=match_countries(cases_countries, mobil_countries)"
   ]
  },
  {
   "cell_type": "code",
   "execution_count": 28,
   "metadata": {},
   "outputs": [
    {
     "data": {
      "text/plain": [
       "['Aruba',\n",
       " 'Cape Verde',\n",
       " \"Côte d'Ivoire\",\n",
       " 'Hong Kong',\n",
       " 'Myanmar (Burma)',\n",
       " 'Puerto Rico',\n",
       " 'Réunion',\n",
       " 'South Korea',\n",
       " 'Taiwan',\n",
       " 'The Bahamas',\n",
       " 'United States']"
      ]
     },
     "execution_count": 28,
     "metadata": {},
     "output_type": "execute_result"
    }
   ],
   "source": [
    "countries_not_found"
   ]
  },
  {
   "cell_type": "code",
   "execution_count": 29,
   "metadata": {},
   "outputs": [
    {
     "data": {
      "text/plain": [
       "0"
      ]
     },
     "execution_count": 29,
     "metadata": {},
     "output_type": "execute_result"
    }
   ],
   "source": [
    "# check nans in the cases dataset\n",
    "\n",
    "cases_df[date_cols].isna().sum().sum()\n",
    "\n",
    "# no nans in the dates"
   ]
  },
  {
   "cell_type": "markdown",
   "metadata": {},
   "source": [
    "## Methodology:\n",
    "\n",
    "### Data Preprocessing:"
   ]
  },
  {
   "cell_type": "code",
   "execution_count": 30,
   "metadata": {},
   "outputs": [],
   "source": [
    "def remove_sub_regions(df=mobil_df):\n",
    "    \"\"\"\n",
    "    DESCRIPTION: this function removes all region-wise rows and returns only rows with values for the whole nation.\n",
    "        \n",
    "    INPUT: df - (pandas.DataFrame) mobility dataset\n",
    "        \n",
    "    OUTPUT: mobil_df_new - (pandas.DataFrame) mobility dataset with only rows for countries as a whole\n",
    "    \"\"\"\n",
    "    # Eliminate all rows based on sub region\n",
    "\n",
    "    # find rows with nan subregions\n",
    "    nan_region= (mobil_df.sub_region_1.isna() & mobil_df.sub_region_2.isna())\n",
    "\n",
    "    # select those rows\n",
    "    mobil_df_new=mobil_df[nan_region]\n",
    "    \n",
    "    # Ensure every nation has the same number of rows\n",
    "    group_country_no_reg= mobil_df_new.groupby(by='country_region') \n",
    "   \n",
    "    # check if elements all equivalent\n",
    "    if (group_country_no_reg.size()== group_country_no_reg.size()[0]).all():\n",
    "        return mobil_df_new\n",
    "    \n",
    "    else:\n",
    "        print(\"Something went wrong. Please check the input paramater\")\n",
    "        return -1\n",
    "    "
   ]
  },
  {
   "cell_type": "code",
   "execution_count": 31,
   "metadata": {
    "scrolled": true
   },
   "outputs": [
    {
     "data": {
      "text/plain": [
       "(11220, 11)"
      ]
     },
     "execution_count": 31,
     "metadata": {},
     "output_type": "execute_result"
    }
   ],
   "source": [
    "# call function and reset index (for simplification)\n",
    "mobil_df_new=remove_sub_regions().reset_index(drop=True)\n",
    "\n",
    "mobil_df_new.shape"
   ]
  },
  {
   "cell_type": "code",
   "execution_count": 32,
   "metadata": {},
   "outputs": [],
   "source": [
    "# add new column for continent\n",
    "import pycountry_convert as pc"
   ]
  },
  {
   "cell_type": "markdown",
   "metadata": {},
   "source": [
    "use technique explained [here](https://stackoverflow.com/questions/55910004/get-continent-name-from-country-using-pycountry)"
   ]
  },
  {
   "cell_type": "code",
   "execution_count": 33,
   "metadata": {},
   "outputs": [
    {
     "name": "stdout",
     "output_type": "stream",
     "text": [
      "Myanmar (Burma)\n",
      "The Bahamas\n"
     ]
    }
   ],
   "source": [
    "# check if all countries in the dataset have a code\n",
    "\n",
    "for country in set(mobil_df_new.country_region):\n",
    "    try:\n",
    "        # if error it does not have the code\n",
    "        country_code = pc.country_name_to_country_alpha2(country, cn_name_format=\"default\")\n",
    "        \n",
    "    except:\n",
    "        # print country name\n",
    "        print(country)\n",
    "        "
   ]
  },
  {
   "cell_type": "code",
   "execution_count": 34,
   "metadata": {},
   "outputs": [],
   "source": [
    "def get_continent(country):\n",
    "    \n",
    "    \"\"\"\n",
    "    DESCRIPTION: return continent code given country name.\n",
    "        \n",
    "    INPUT: country - (str) country name\n",
    "        \n",
    "    OUTPUT: continent_code - (str) continent code for country\n",
    "    \"\"\"\n",
    "    \n",
    "    try:\n",
    "        #get country code\n",
    "        country_code = pc.country_name_to_country_alpha2(country, cn_name_format=\"default\")\n",
    "        # get continent code\n",
    "        continent_code = pc.country_alpha2_to_continent_code(country_code)\n",
    "    \n",
    "        \n",
    "    except:\n",
    "        \n",
    "        # given that there are only two countries that cause an exception\n",
    "        # it's easy to deal with them manually\n",
    "        \n",
    "        if country=='The Bahamas':\n",
    "            return 'NA'\n",
    "        \n",
    "        \n",
    "        elif country=='Myanmar (Burma)':\n",
    "            return 'AS'\n",
    "        \n",
    "        # Redundant case\n",
    "        else: \n",
    "            print('Something Went Wrong')\n",
    "            return -1\n",
    "    \n",
    "    return continent_code"
   ]
  },
  {
   "cell_type": "code",
   "execution_count": 35,
   "metadata": {},
   "outputs": [
    {
     "data": {
      "text/plain": [
       "['Bahrain',\n",
       " 'Moldova',\n",
       " 'Trinidad and Tobago',\n",
       " 'Australia',\n",
       " 'Barbados',\n",
       " 'Spain',\n",
       " 'Czechia',\n",
       " 'Gabon',\n",
       " 'Cambodia',\n",
       " 'Switzerland']"
      ]
     },
     "execution_count": 35,
     "metadata": {},
     "output_type": "execute_result"
    }
   ],
   "source": [
    "# Check if it works on all countries\n",
    "\n",
    "continent_lst=[]\n",
    "countries = list(set(mobil_df_new.country_region))\n",
    "\n",
    "for country in countries:\n",
    "    \n",
    "    continent= get_continent(country)\n",
    "    continent_lst.append(continent)\n",
    "\n",
    "countries[:10]   "
   ]
  },
  {
   "cell_type": "code",
   "execution_count": 36,
   "metadata": {
    "scrolled": true
   },
   "outputs": [
    {
     "data": {
      "text/plain": [
       "['AS', 'EU', 'NA', 'OC', 'NA', 'EU', 'EU', 'AF', 'AS', 'EU']"
      ]
     },
     "execution_count": 36,
     "metadata": {},
     "output_type": "execute_result"
    }
   ],
   "source": [
    "continent_lst[:10]"
   ]
  },
  {
   "cell_type": "code",
   "execution_count": 37,
   "metadata": {},
   "outputs": [],
   "source": [
    "# apply function to all rows in df\n",
    "continents=mobil_df_new.country_region.apply(get_continent)\n",
    "\n",
    "# add continents column to mobil_df_new\n",
    "mobil_df_new['continent']= continents"
   ]
  },
  {
   "cell_type": "code",
   "execution_count": 38,
   "metadata": {},
   "outputs": [
    {
     "data": {
      "text/html": [
       "<div>\n",
       "<style scoped>\n",
       "    .dataframe tbody tr th:only-of-type {\n",
       "        vertical-align: middle;\n",
       "    }\n",
       "\n",
       "    .dataframe tbody tr th {\n",
       "        vertical-align: top;\n",
       "    }\n",
       "\n",
       "    .dataframe thead th {\n",
       "        text-align: right;\n",
       "    }\n",
       "</style>\n",
       "<table border=\"1\" class=\"dataframe\">\n",
       "  <thead>\n",
       "    <tr style=\"text-align: right;\">\n",
       "      <th></th>\n",
       "      <th>country_region_code</th>\n",
       "      <th>country_region</th>\n",
       "      <th>sub_region_1</th>\n",
       "      <th>sub_region_2</th>\n",
       "      <th>date</th>\n",
       "      <th>retail_and_recreation_percent_change_from_baseline</th>\n",
       "      <th>grocery_and_pharmacy_percent_change_from_baseline</th>\n",
       "      <th>parks_percent_change_from_baseline</th>\n",
       "      <th>transit_stations_percent_change_from_baseline</th>\n",
       "      <th>workplaces_percent_change_from_baseline</th>\n",
       "      <th>residential_percent_change_from_baseline</th>\n",
       "      <th>continent</th>\n",
       "    </tr>\n",
       "  </thead>\n",
       "  <tbody>\n",
       "    <tr>\n",
       "      <th>0</th>\n",
       "      <td>AE</td>\n",
       "      <td>United Arab Emirates</td>\n",
       "      <td>NaN</td>\n",
       "      <td>NaN</td>\n",
       "      <td>2020-02-15</td>\n",
       "      <td>0.0</td>\n",
       "      <td>4.0</td>\n",
       "      <td>5.0</td>\n",
       "      <td>0.0</td>\n",
       "      <td>2.0</td>\n",
       "      <td>1.0</td>\n",
       "      <td>AS</td>\n",
       "    </tr>\n",
       "    <tr>\n",
       "      <th>1</th>\n",
       "      <td>AE</td>\n",
       "      <td>United Arab Emirates</td>\n",
       "      <td>NaN</td>\n",
       "      <td>NaN</td>\n",
       "      <td>2020-02-16</td>\n",
       "      <td>1.0</td>\n",
       "      <td>4.0</td>\n",
       "      <td>4.0</td>\n",
       "      <td>1.0</td>\n",
       "      <td>2.0</td>\n",
       "      <td>1.0</td>\n",
       "      <td>AS</td>\n",
       "    </tr>\n",
       "    <tr>\n",
       "      <th>2</th>\n",
       "      <td>AE</td>\n",
       "      <td>United Arab Emirates</td>\n",
       "      <td>NaN</td>\n",
       "      <td>NaN</td>\n",
       "      <td>2020-02-17</td>\n",
       "      <td>-1.0</td>\n",
       "      <td>1.0</td>\n",
       "      <td>5.0</td>\n",
       "      <td>1.0</td>\n",
       "      <td>2.0</td>\n",
       "      <td>1.0</td>\n",
       "      <td>AS</td>\n",
       "    </tr>\n",
       "    <tr>\n",
       "      <th>3</th>\n",
       "      <td>AE</td>\n",
       "      <td>United Arab Emirates</td>\n",
       "      <td>NaN</td>\n",
       "      <td>NaN</td>\n",
       "      <td>2020-02-18</td>\n",
       "      <td>-2.0</td>\n",
       "      <td>1.0</td>\n",
       "      <td>5.0</td>\n",
       "      <td>0.0</td>\n",
       "      <td>2.0</td>\n",
       "      <td>1.0</td>\n",
       "      <td>AS</td>\n",
       "    </tr>\n",
       "    <tr>\n",
       "      <th>4</th>\n",
       "      <td>AE</td>\n",
       "      <td>United Arab Emirates</td>\n",
       "      <td>NaN</td>\n",
       "      <td>NaN</td>\n",
       "      <td>2020-02-19</td>\n",
       "      <td>-2.0</td>\n",
       "      <td>0.0</td>\n",
       "      <td>4.0</td>\n",
       "      <td>-1.0</td>\n",
       "      <td>2.0</td>\n",
       "      <td>1.0</td>\n",
       "      <td>AS</td>\n",
       "    </tr>\n",
       "  </tbody>\n",
       "</table>\n",
       "</div>"
      ],
      "text/plain": [
       "  country_region_code        country_region sub_region_1 sub_region_2  \\\n",
       "0                  AE  United Arab Emirates          NaN          NaN   \n",
       "1                  AE  United Arab Emirates          NaN          NaN   \n",
       "2                  AE  United Arab Emirates          NaN          NaN   \n",
       "3                  AE  United Arab Emirates          NaN          NaN   \n",
       "4                  AE  United Arab Emirates          NaN          NaN   \n",
       "\n",
       "         date  retail_and_recreation_percent_change_from_baseline  \\\n",
       "0  2020-02-15                                                0.0    \n",
       "1  2020-02-16                                                1.0    \n",
       "2  2020-02-17                                               -1.0    \n",
       "3  2020-02-18                                               -2.0    \n",
       "4  2020-02-19                                               -2.0    \n",
       "\n",
       "   grocery_and_pharmacy_percent_change_from_baseline  \\\n",
       "0                                                4.0   \n",
       "1                                                4.0   \n",
       "2                                                1.0   \n",
       "3                                                1.0   \n",
       "4                                                0.0   \n",
       "\n",
       "   parks_percent_change_from_baseline  \\\n",
       "0                                 5.0   \n",
       "1                                 4.0   \n",
       "2                                 5.0   \n",
       "3                                 5.0   \n",
       "4                                 4.0   \n",
       "\n",
       "   transit_stations_percent_change_from_baseline  \\\n",
       "0                                            0.0   \n",
       "1                                            1.0   \n",
       "2                                            1.0   \n",
       "3                                            0.0   \n",
       "4                                           -1.0   \n",
       "\n",
       "   workplaces_percent_change_from_baseline  \\\n",
       "0                                      2.0   \n",
       "1                                      2.0   \n",
       "2                                      2.0   \n",
       "3                                      2.0   \n",
       "4                                      2.0   \n",
       "\n",
       "   residential_percent_change_from_baseline continent  \n",
       "0                                       1.0        AS  \n",
       "1                                       1.0        AS  \n",
       "2                                       1.0        AS  \n",
       "3                                       1.0        AS  \n",
       "4                                       1.0        AS  "
      ]
     },
     "execution_count": 38,
     "metadata": {},
     "output_type": "execute_result"
    }
   ],
   "source": [
    "mobil_df_new.head()"
   ]
  },
  {
   "cell_type": "code",
   "execution_count": 39,
   "metadata": {},
   "outputs": [],
   "source": [
    "# rearrange columns and get rid of sub_region_1 and sub_reg\n",
    "\n",
    "# get list of columns\n",
    "cols=list(mobil_df_new.columns)\n",
    "\n",
    "# replace sub_region_1 column with 'continent'\n",
    "cols[2]=cols[-1]\n",
    "\n",
    "# remove sub_region_2\n",
    "cols.remove('sub_region_2')\n",
    "\n",
    "# get rid of last element 'continent'\n",
    "cols=cols[:-1]"
   ]
  },
  {
   "cell_type": "code",
   "execution_count": 40,
   "metadata": {
    "scrolled": true
   },
   "outputs": [
    {
     "data": {
      "text/html": [
       "<div>\n",
       "<style scoped>\n",
       "    .dataframe tbody tr th:only-of-type {\n",
       "        vertical-align: middle;\n",
       "    }\n",
       "\n",
       "    .dataframe tbody tr th {\n",
       "        vertical-align: top;\n",
       "    }\n",
       "\n",
       "    .dataframe thead th {\n",
       "        text-align: right;\n",
       "    }\n",
       "</style>\n",
       "<table border=\"1\" class=\"dataframe\">\n",
       "  <thead>\n",
       "    <tr style=\"text-align: right;\">\n",
       "      <th></th>\n",
       "      <th>country_region_code</th>\n",
       "      <th>country_region</th>\n",
       "      <th>continent</th>\n",
       "      <th>date</th>\n",
       "      <th>retail_and_recreation_percent_change_from_baseline</th>\n",
       "      <th>grocery_and_pharmacy_percent_change_from_baseline</th>\n",
       "      <th>parks_percent_change_from_baseline</th>\n",
       "      <th>transit_stations_percent_change_from_baseline</th>\n",
       "      <th>workplaces_percent_change_from_baseline</th>\n",
       "      <th>residential_percent_change_from_baseline</th>\n",
       "    </tr>\n",
       "  </thead>\n",
       "  <tbody>\n",
       "    <tr>\n",
       "      <th>0</th>\n",
       "      <td>AE</td>\n",
       "      <td>United Arab Emirates</td>\n",
       "      <td>AS</td>\n",
       "      <td>2020-02-15</td>\n",
       "      <td>0.0</td>\n",
       "      <td>4.0</td>\n",
       "      <td>5.0</td>\n",
       "      <td>0.0</td>\n",
       "      <td>2.0</td>\n",
       "      <td>1.0</td>\n",
       "    </tr>\n",
       "    <tr>\n",
       "      <th>1</th>\n",
       "      <td>AE</td>\n",
       "      <td>United Arab Emirates</td>\n",
       "      <td>AS</td>\n",
       "      <td>2020-02-16</td>\n",
       "      <td>1.0</td>\n",
       "      <td>4.0</td>\n",
       "      <td>4.0</td>\n",
       "      <td>1.0</td>\n",
       "      <td>2.0</td>\n",
       "      <td>1.0</td>\n",
       "    </tr>\n",
       "    <tr>\n",
       "      <th>2</th>\n",
       "      <td>AE</td>\n",
       "      <td>United Arab Emirates</td>\n",
       "      <td>AS</td>\n",
       "      <td>2020-02-17</td>\n",
       "      <td>-1.0</td>\n",
       "      <td>1.0</td>\n",
       "      <td>5.0</td>\n",
       "      <td>1.0</td>\n",
       "      <td>2.0</td>\n",
       "      <td>1.0</td>\n",
       "    </tr>\n",
       "    <tr>\n",
       "      <th>3</th>\n",
       "      <td>AE</td>\n",
       "      <td>United Arab Emirates</td>\n",
       "      <td>AS</td>\n",
       "      <td>2020-02-18</td>\n",
       "      <td>-2.0</td>\n",
       "      <td>1.0</td>\n",
       "      <td>5.0</td>\n",
       "      <td>0.0</td>\n",
       "      <td>2.0</td>\n",
       "      <td>1.0</td>\n",
       "    </tr>\n",
       "    <tr>\n",
       "      <th>4</th>\n",
       "      <td>AE</td>\n",
       "      <td>United Arab Emirates</td>\n",
       "      <td>AS</td>\n",
       "      <td>2020-02-19</td>\n",
       "      <td>-2.0</td>\n",
       "      <td>0.0</td>\n",
       "      <td>4.0</td>\n",
       "      <td>-1.0</td>\n",
       "      <td>2.0</td>\n",
       "      <td>1.0</td>\n",
       "    </tr>\n",
       "  </tbody>\n",
       "</table>\n",
       "</div>"
      ],
      "text/plain": [
       "  country_region_code        country_region continent        date  \\\n",
       "0                  AE  United Arab Emirates        AS  2020-02-15   \n",
       "1                  AE  United Arab Emirates        AS  2020-02-16   \n",
       "2                  AE  United Arab Emirates        AS  2020-02-17   \n",
       "3                  AE  United Arab Emirates        AS  2020-02-18   \n",
       "4                  AE  United Arab Emirates        AS  2020-02-19   \n",
       "\n",
       "   retail_and_recreation_percent_change_from_baseline  \\\n",
       "0                                                0.0    \n",
       "1                                                1.0    \n",
       "2                                               -1.0    \n",
       "3                                               -2.0    \n",
       "4                                               -2.0    \n",
       "\n",
       "   grocery_and_pharmacy_percent_change_from_baseline  \\\n",
       "0                                                4.0   \n",
       "1                                                4.0   \n",
       "2                                                1.0   \n",
       "3                                                1.0   \n",
       "4                                                0.0   \n",
       "\n",
       "   parks_percent_change_from_baseline  \\\n",
       "0                                 5.0   \n",
       "1                                 4.0   \n",
       "2                                 5.0   \n",
       "3                                 5.0   \n",
       "4                                 4.0   \n",
       "\n",
       "   transit_stations_percent_change_from_baseline  \\\n",
       "0                                            0.0   \n",
       "1                                            1.0   \n",
       "2                                            1.0   \n",
       "3                                            0.0   \n",
       "4                                           -1.0   \n",
       "\n",
       "   workplaces_percent_change_from_baseline  \\\n",
       "0                                      2.0   \n",
       "1                                      2.0   \n",
       "2                                      2.0   \n",
       "3                                      2.0   \n",
       "4                                      2.0   \n",
       "\n",
       "   residential_percent_change_from_baseline  \n",
       "0                                       1.0  \n",
       "1                                       1.0  \n",
       "2                                       1.0  \n",
       "3                                       1.0  \n",
       "4                                       1.0  "
      ]
     },
     "execution_count": 40,
     "metadata": {},
     "output_type": "execute_result"
    }
   ],
   "source": [
    "mobil_df_new= mobil_df_new[cols]\n",
    "\n",
    "mobil_df_new.head()"
   ]
  },
  {
   "cell_type": "code",
   "execution_count": 41,
   "metadata": {
    "scrolled": true
   },
   "outputs": [
    {
     "data": {
      "text/plain": [
       "['Aruba',\n",
       " 'Cape Verde',\n",
       " \"Côte d'Ivoire\",\n",
       " 'Hong Kong',\n",
       " 'Myanmar (Burma)',\n",
       " 'Puerto Rico',\n",
       " 'Réunion',\n",
       " 'South Korea',\n",
       " 'Taiwan',\n",
       " 'The Bahamas',\n",
       " 'United States']"
      ]
     },
     "execution_count": 41,
     "metadata": {},
     "output_type": "execute_result"
    }
   ],
   "source": [
    "# Now to concatenate cases_df with mobil_df_new\n",
    "# Some chnages must be made on cases_df first\n",
    "\n",
    "countries_not_found"
   ]
  },
  {
   "cell_type": "code",
   "execution_count": 42,
   "metadata": {},
   "outputs": [],
   "source": [
    "#Ad hoc method to match countries not found in both datasets\n",
    "\n",
    "# Puerto Rico not present in cases_df\n",
    "\n",
    "\"\"\"\n",
    "Names of missing countries in cases_df\n",
    "\n",
    "Burma\n",
    "Taiwan*\n",
    "Korea, South\n",
    "US\n",
    "Cabo Verde\n",
    "Bahamas\n",
    "Cote d'Ivoire\n",
    "\n",
    "*Provinces:\n",
    "\n",
    "Reunion\n",
    "Hong Kong\n",
    "Aruba\n",
    "\"\"\"\n",
    "\n",
    "names_in_cases= ['Aruba',\n",
    "                 'Cabo Verde',\n",
    "                 \"Cote d'Ivoire\",\n",
    "                 'Hong Kong',\n",
    "                 'Burma',\n",
    "                 'Puerto Rico',\n",
    "                 'Reunion',\n",
    "                 'Korea, South',\n",
    "                 'Taiwan*',\n",
    "                 'Bahamas',\n",
    "                 'US'\n",
    "                ]"
   ]
  },
  {
   "cell_type": "code",
   "execution_count": 43,
   "metadata": {},
   "outputs": [],
   "source": [
    "def change_names(countries_not_found=countries_not_found, names_in_cases=names_in_cases, cases_df=cases_df):\n",
    "    \"\"\"\n",
    "    DESCRIPTION: return cases_df with country names that match with mobil_df\n",
    "        \n",
    "    INPUT: countries_not_found - (list) country names which were not found in cases_df\n",
    "           names_in_cases - (list) country names that match countries_not_found but with different spelling\n",
    "           \n",
    "           NOTE: one country is missing from cases_df: Puerto Rico\n",
    "        \n",
    "    OUTPUT: new_country_ser - (pandas.Series) cases_df['Country/Region'] with modified country names\n",
    "    \"\"\"\n",
    "    # get country/region column\n",
    "    countries_col= cases_df['Country/Region'].values\n",
    "    \n",
    "    # get province column\n",
    "    province_col=cases_df['Province/State'].values\n",
    "    \n",
    "    new_country_ser=cases_df['Country/Region'].copy()\n",
    "    \n",
    "    # loop through every country in names_in_cases and countries_not_found\n",
    "    for cases_name, mobil_name in zip(names_in_cases, countries_not_found):\n",
    "        \n",
    "        if cases_name in countries_col:\n",
    "            # replace country_name with\n",
    "            if cases_name=='Taiwan*':\n",
    "                \n",
    "                # cannot be remove '*' with replace so use strip\n",
    "                new_country_ser=new_country_ser.str.strip('*')\n",
    "            \n",
    "            else:\n",
    "                # other names are ok\n",
    "                new_country_ser=new_country_ser.str.replace(cases_name, mobil_name)\n",
    "        \n",
    "            \n",
    "        elif cases_name in province_col:\n",
    "            \n",
    "            # find index at which cases_name == province\n",
    "            index=cases_df[cases_df['Province/State']==cases_name].index[0]\n",
    "            \n",
    "            # replace current value with cases_name\n",
    "            new_country_ser.loc[index]=mobil_name\n",
    "        else:\n",
    "            print('The following country did not have a match: {}'.format(cases_name))\n",
    "    \n",
    "    return new_country_ser       \n",
    "            "
   ]
  },
  {
   "cell_type": "code",
   "execution_count": 44,
   "metadata": {
    "scrolled": true
   },
   "outputs": [
    {
     "name": "stdout",
     "output_type": "stream",
     "text": [
      "The following country did not have a match: Puerto Rico\n",
      "The following countries were not found in cases_df:\n",
      "Puerto Rico\n"
     ]
    },
    {
     "data": {
      "text/plain": [
       "['Puerto Rico']"
      ]
     },
     "execution_count": 44,
     "metadata": {},
     "output_type": "execute_result"
    }
   ],
   "source": [
    "cases_countries= list(set(change_names()))\n",
    "\n",
    "#check now if there are missing countries\n",
    "match_countries(cases_countries, mobil_countries)"
   ]
  },
  {
   "cell_type": "code",
   "execution_count": 45,
   "metadata": {},
   "outputs": [
    {
     "name": "stdout",
     "output_type": "stream",
     "text": [
      "The following country did not have a match: Puerto Rico\n"
     ]
    }
   ],
   "source": [
    "# now to add the new col to the datset\n",
    "new_col= change_names()\n",
    "    \n",
    "cases_df['Country/Region']=new_col"
   ]
  },
  {
   "cell_type": "code",
   "execution_count": 46,
   "metadata": {},
   "outputs": [
    {
     "data": {
      "text/plain": [
       "Country/Region\n",
       "China             32\n",
       "Canada            14\n",
       "United Kingdom    11\n",
       "France            10\n",
       "Australia          8\n",
       "                  ..\n",
       "Nicaragua          1\n",
       "New Zealand        1\n",
       "Nepal              1\n",
       "Namibia            1\n",
       "Afghanistan        1\n",
       "Length: 191, dtype: int64"
      ]
     },
     "execution_count": 46,
     "metadata": {},
     "output_type": "execute_result"
    }
   ],
   "source": [
    "# in the cases dataset there are countries which don't have their numbers summed up in one row\n",
    "cases_group_countries= cases_df.groupby(by='Country/Region')\n",
    "\n",
    "cases_group_countries.size().sort_values(ascending=False)"
   ]
  },
  {
   "cell_type": "code",
   "execution_count": 47,
   "metadata": {},
   "outputs": [],
   "source": [
    "# these rows will need to be reduced to one\n",
    "cases_df_new=cases_group_countries.sum()"
   ]
  },
  {
   "cell_type": "code",
   "execution_count": 48,
   "metadata": {},
   "outputs": [
    {
     "data": {
      "text/plain": [
       "True"
      ]
     },
     "execution_count": 48,
     "metadata": {},
     "output_type": "execute_result"
    }
   ],
   "source": [
    "# ensure num_countries matches number of rows in the dataset\n",
    "cases_df_new.shape[0]==len(cases_countries)"
   ]
  },
  {
   "cell_type": "code",
   "execution_count": 49,
   "metadata": {
    "scrolled": true
   },
   "outputs": [],
   "source": [
    "\n",
    "# now to limit cases_df_new to start-end dates of mobil_df\n",
    "cases_df_new=cases_df_new[date_cols[ind_i:ind_f+1]]"
   ]
  },
  {
   "cell_type": "code",
   "execution_count": 50,
   "metadata": {},
   "outputs": [],
   "source": [
    "def create_cases_col(countries_ordered, days=85, cases_df_new=cases_df_new):\n",
    "    \n",
    "    \"\"\"\n",
    "    DESCRIPTION: create a cases col to concatenate with mobil_df_new\n",
    "        \n",
    "    INPUT: countries_ordered - (list) countries list arranged in the same manner as mobil_df_new\n",
    "           days - (int) number of days in the dataset\n",
    "           cases_df_new - (pandas.DataFrame) use its values to fill col \n",
    "        \n",
    "    OUTPUT: cases_col - (list) column with len==mobil_df_new.shape[0]\n",
    "    \"\"\"\n",
    "    \n",
    "    # transpose cases_df_new for easier handeling\n",
    "    new_cases_transpose= cases_df_new.transpose()\n",
    "    \n",
    "    # create an empty list \n",
    "    cases_col= []\n",
    "    \n",
    "    # create a list of nans for countries not in dataset\n",
    "    nans=[np.nan for i in range(days)]\n",
    "    \n",
    "    # loop through every country\n",
    "    for country in countries_ordered:\n",
    "        \n",
    "        try:\n",
    "            # add the country's values to the list\n",
    "            cases_col.extend(cases_df_new.loc[country])\n",
    "            \n",
    "        except:\n",
    "            # country not in dataset, ie Puerto Rico\n",
    "            cases_col.extend(nans)\n",
    "            \n",
    "    \n",
    "    return cases_col\n",
    "    "
   ]
  },
  {
   "cell_type": "code",
   "execution_count": 51,
   "metadata": {},
   "outputs": [],
   "source": [
    "# get ordered list\n",
    "countries_ordered=list(pd.unique(mobil_df_new.country_region))\n",
    "\n",
    "#create cases_col\n",
    "cases_col=create_cases_col(countries_ordered=countries_ordered)"
   ]
  },
  {
   "cell_type": "code",
   "execution_count": 52,
   "metadata": {},
   "outputs": [],
   "source": [
    "# add col to dataframe\n",
    "mobil_df_new['corona_cases']= cases_col"
   ]
  },
  {
   "cell_type": "code",
   "execution_count": 53,
   "metadata": {},
   "outputs": [
    {
     "data": {
      "text/html": [
       "<div>\n",
       "<style scoped>\n",
       "    .dataframe tbody tr th:only-of-type {\n",
       "        vertical-align: middle;\n",
       "    }\n",
       "\n",
       "    .dataframe tbody tr th {\n",
       "        vertical-align: top;\n",
       "    }\n",
       "\n",
       "    .dataframe thead th {\n",
       "        text-align: right;\n",
       "    }\n",
       "</style>\n",
       "<table border=\"1\" class=\"dataframe\">\n",
       "  <thead>\n",
       "    <tr style=\"text-align: right;\">\n",
       "      <th></th>\n",
       "      <th>country_region_code</th>\n",
       "      <th>country_region</th>\n",
       "      <th>continent</th>\n",
       "      <th>date</th>\n",
       "      <th>retail_and_recreation_percent_change_from_baseline</th>\n",
       "      <th>grocery_and_pharmacy_percent_change_from_baseline</th>\n",
       "      <th>parks_percent_change_from_baseline</th>\n",
       "      <th>transit_stations_percent_change_from_baseline</th>\n",
       "      <th>workplaces_percent_change_from_baseline</th>\n",
       "      <th>residential_percent_change_from_baseline</th>\n",
       "      <th>corona_cases</th>\n",
       "    </tr>\n",
       "  </thead>\n",
       "  <tbody>\n",
       "    <tr>\n",
       "      <th>0</th>\n",
       "      <td>AE</td>\n",
       "      <td>United Arab Emirates</td>\n",
       "      <td>AS</td>\n",
       "      <td>2020-02-15</td>\n",
       "      <td>0.0</td>\n",
       "      <td>4.0</td>\n",
       "      <td>5.0</td>\n",
       "      <td>0.0</td>\n",
       "      <td>2.0</td>\n",
       "      <td>1.0</td>\n",
       "      <td>8.0</td>\n",
       "    </tr>\n",
       "    <tr>\n",
       "      <th>1</th>\n",
       "      <td>AE</td>\n",
       "      <td>United Arab Emirates</td>\n",
       "      <td>AS</td>\n",
       "      <td>2020-02-16</td>\n",
       "      <td>1.0</td>\n",
       "      <td>4.0</td>\n",
       "      <td>4.0</td>\n",
       "      <td>1.0</td>\n",
       "      <td>2.0</td>\n",
       "      <td>1.0</td>\n",
       "      <td>9.0</td>\n",
       "    </tr>\n",
       "    <tr>\n",
       "      <th>2</th>\n",
       "      <td>AE</td>\n",
       "      <td>United Arab Emirates</td>\n",
       "      <td>AS</td>\n",
       "      <td>2020-02-17</td>\n",
       "      <td>-1.0</td>\n",
       "      <td>1.0</td>\n",
       "      <td>5.0</td>\n",
       "      <td>1.0</td>\n",
       "      <td>2.0</td>\n",
       "      <td>1.0</td>\n",
       "      <td>9.0</td>\n",
       "    </tr>\n",
       "    <tr>\n",
       "      <th>3</th>\n",
       "      <td>AE</td>\n",
       "      <td>United Arab Emirates</td>\n",
       "      <td>AS</td>\n",
       "      <td>2020-02-18</td>\n",
       "      <td>-2.0</td>\n",
       "      <td>1.0</td>\n",
       "      <td>5.0</td>\n",
       "      <td>0.0</td>\n",
       "      <td>2.0</td>\n",
       "      <td>1.0</td>\n",
       "      <td>9.0</td>\n",
       "    </tr>\n",
       "    <tr>\n",
       "      <th>4</th>\n",
       "      <td>AE</td>\n",
       "      <td>United Arab Emirates</td>\n",
       "      <td>AS</td>\n",
       "      <td>2020-02-19</td>\n",
       "      <td>-2.0</td>\n",
       "      <td>0.0</td>\n",
       "      <td>4.0</td>\n",
       "      <td>-1.0</td>\n",
       "      <td>2.0</td>\n",
       "      <td>1.0</td>\n",
       "      <td>9.0</td>\n",
       "    </tr>\n",
       "  </tbody>\n",
       "</table>\n",
       "</div>"
      ],
      "text/plain": [
       "  country_region_code        country_region continent        date  \\\n",
       "0                  AE  United Arab Emirates        AS  2020-02-15   \n",
       "1                  AE  United Arab Emirates        AS  2020-02-16   \n",
       "2                  AE  United Arab Emirates        AS  2020-02-17   \n",
       "3                  AE  United Arab Emirates        AS  2020-02-18   \n",
       "4                  AE  United Arab Emirates        AS  2020-02-19   \n",
       "\n",
       "   retail_and_recreation_percent_change_from_baseline  \\\n",
       "0                                                0.0    \n",
       "1                                                1.0    \n",
       "2                                               -1.0    \n",
       "3                                               -2.0    \n",
       "4                                               -2.0    \n",
       "\n",
       "   grocery_and_pharmacy_percent_change_from_baseline  \\\n",
       "0                                                4.0   \n",
       "1                                                4.0   \n",
       "2                                                1.0   \n",
       "3                                                1.0   \n",
       "4                                                0.0   \n",
       "\n",
       "   parks_percent_change_from_baseline  \\\n",
       "0                                 5.0   \n",
       "1                                 4.0   \n",
       "2                                 5.0   \n",
       "3                                 5.0   \n",
       "4                                 4.0   \n",
       "\n",
       "   transit_stations_percent_change_from_baseline  \\\n",
       "0                                            0.0   \n",
       "1                                            1.0   \n",
       "2                                            1.0   \n",
       "3                                            0.0   \n",
       "4                                           -1.0   \n",
       "\n",
       "   workplaces_percent_change_from_baseline  \\\n",
       "0                                      2.0   \n",
       "1                                      2.0   \n",
       "2                                      2.0   \n",
       "3                                      2.0   \n",
       "4                                      2.0   \n",
       "\n",
       "   residential_percent_change_from_baseline  corona_cases  \n",
       "0                                       1.0           8.0  \n",
       "1                                       1.0           9.0  \n",
       "2                                       1.0           9.0  \n",
       "3                                       1.0           9.0  \n",
       "4                                       1.0           9.0  "
      ]
     },
     "execution_count": 53,
     "metadata": {},
     "output_type": "execute_result"
    }
   ],
   "source": [
    "# Final form\n",
    "mobil_df_new.head()"
   ]
  },
  {
   "cell_type": "markdown",
   "metadata": {},
   "source": [
    "## Implementation"
   ]
  },
  {
   "cell_type": "code",
   "execution_count": 54,
   "metadata": {},
   "outputs": [],
   "source": [
    "\"\"\"For each country, we will look at all location types individually and determine greatest mobility slow-down based on\n",
    "    changes from baseline and the time at which they were reached\"\"\"\n",
    "\n",
    "# use groupby to get the values based on country\n",
    "group_country=mobil_df_new.groupby(by='country_region')"
   ]
  },
  {
   "cell_type": "code",
   "execution_count": 55,
   "metadata": {},
   "outputs": [],
   "source": [
    "# create dataframe with minimum mobility\n",
    "min_df=group_country.min()\n",
    "\n",
    "# max residential reflects min mobility\n",
    "min_df['residential_percent_change_from_baseline']= group_country.max()['residential_percent_change_from_baseline']\n"
   ]
  },
  {
   "cell_type": "code",
   "execution_count": 56,
   "metadata": {},
   "outputs": [],
   "source": [
    "# get 10 countries with greatest mobility drop\n",
    "\n",
    "get_first_n= lambda col: col.nsmallest(10).index \n",
    "\n",
    "# get n countries with least mobility drop\n",
    "get_last_n= lambda col: col.nlargest(10).index "
   ]
  },
  {
   "cell_type": "code",
   "execution_count": 57,
   "metadata": {},
   "outputs": [],
   "source": [
    "def sort_and_plot(col_name, op='min', n=10, df=min_df):\n",
    "    \"\"\"\n",
    "    DESCRIPTION: sort values for the specified column in an ascending order, and plot n largest and smallest values\n",
    "        \n",
    "    INPUT: col_name - (str) name of column in df\n",
    "           op - (str) type of df (min or max)\n",
    "           n - (str) number of countries to graph \n",
    "           df - (pandas.DataFrame) used to sort and plot values\n",
    "        \n",
    "    OUTPUT: col_sorted - (pandas.Series) sorted col_name column from df \n",
    "    \"\"\"\n",
    "    \n",
    "    # get col with sorted values\n",
    "    col_sorted= df[col_name].sort_values()\n",
    "    \n",
    "    # for plot title\n",
    "    response_1=''\n",
    "    response_2=''\n",
    "    \n",
    "    if op=='min':\n",
    "        # in case df is min\n",
    "        response_1='greatest'\n",
    "        response_2='least'\n",
    "    else:\n",
    "        # case df is max\n",
    "        response_1='least'\n",
    "        response_2='greatest'\n",
    "    \n",
    "    # plot n countries with greatest negative change in mobility\n",
    "    col_sorted.nsmallest(n).plot.barh(color= ['g',\n",
    "                                              'b',\n",
    "                                              'r',\n",
    "                                              'y',\n",
    "                                              'c', \n",
    "                                              'firebrick',\n",
    "                                              'gold',\n",
    "                                              'lime',\n",
    "                                              'orange',\n",
    "                                              'gray']);\n",
    "    plt.ylabel('Country');\n",
    "    plt.xlabel('Change from Baseline');\n",
    "    plt.title('{} in {}: countries with {} response'.format(op, \n",
    "                                                            col_name.replace('_percent_change_from_baseline', ''), \n",
    "                                                            response_1));\n",
    "    plt.show()\n",
    "    \n",
    "    \n",
    "    # plot n countries with least change in mobility\n",
    "    col_sorted.nlargest(n).plot.barh(color= ['g',\n",
    "                                              'b',\n",
    "                                              'r',\n",
    "                                              'y',\n",
    "                                              'c', \n",
    "                                              'firebrick',\n",
    "                                              'gold',\n",
    "                                              'lime',\n",
    "                                              'orange',\n",
    "                                              'gray']);\n",
    "    plt.ylabel('Country');\n",
    "    plt.xlabel('Change from Baseline');\n",
    "    plt.title('{} in {}: countries with {} response'.format(op, \n",
    "                                                               col_name.replace('_percent_change_from_baseline', ''),\n",
    "                                                               response_2));\n",
    "    plt.show()\n",
    "    \n",
    "    return col_sorted\n",
    "    \n",
    "    "
   ]
  },
  {
   "cell_type": "code",
   "execution_count": 58,
   "metadata": {},
   "outputs": [],
   "source": [
    "'''finding min and max is easy enough, however more work needed to be done to find dates at which they occurred'''\n",
    "\n",
    "# get indecies at which min occurs\n",
    "min_idx_df= group_country.idxmin()\n",
    "\n",
    "# get max indecies for Residential\n",
    "min_idx_df['residential_percent_change_from_baseline']= group_country.idxmax()['residential_percent_change_from_baseline']\n",
    "\n",
    "\n",
    "\n",
    "# define following function to find max and min dates for specified column\n",
    "def get_date(col_name, df=mobil_df_new, idx_df=min_idx_df):\n",
    "    \"\"\"\n",
    "    DESCRIPTION: get series of dates given series of indecies. also plots dates in one dimension\n",
    "        \n",
    "    INPUT: col_name - (str) name of column in df \n",
    "           df - (pandas.DataFrame) the data\n",
    "           idx_df - (pandas.DataFrame) df which has min index for every col&country combination\n",
    "        \n",
    "    OUTPUT: col_min_dates - (pandas.Series) column with dates where min occurs for col_name  \n",
    "    \"\"\"\n",
    "    \n",
    "    # get the indexes for specified column\n",
    "    col_min_index=idx_df[col_name]\n",
    "    \n",
    "    # do not consider countries which had all nans for col\n",
    "    col_min_index=col_min_index.dropna()\n",
    "    \n",
    "    # ensure index is int\n",
    "    col_min_index=col_min_index.astype(int)\n",
    "    \n",
    "    # def lambda to get and index and return a date\n",
    "    get_date= lambda index: df.loc[index]['date']\n",
    "    \n",
    "    # apply to col with min indicies\n",
    "    col_min_dates= col_min_index.apply(get_date)\n",
    "    \n",
    "    \n",
    "    return col_min_dates\n"
   ]
  },
  {
   "cell_type": "code",
   "execution_count": 59,
   "metadata": {
    "scrolled": false
   },
   "outputs": [
    {
     "data": {
      "text/plain": [
       "country_region\n",
       "Afghanistan           2020-05-03\n",
       "Angola                2020-04-10\n",
       "Antigua and Barbuda   2020-04-10\n",
       "Argentina             2020-04-19\n",
       "Aruba                 2020-04-10\n",
       "                         ...    \n",
       "Venezuela             2020-04-10\n",
       "Vietnam               2020-04-04\n",
       "Yemen                 2020-04-24\n",
       "Zambia                2020-04-19\n",
       "Zimbabwe              2020-04-03\n",
       "Name: parks_percent_change_from_baseline, Length: 131, dtype: datetime64[ns]"
      ]
     },
     "execution_count": 59,
     "metadata": {},
     "output_type": "execute_result"
    }
   ],
   "source": [
    "# look at output of function\n",
    "dates=pd.to_datetime(get_date('parks_percent_change_from_baseline'))\n",
    "dates"
   ]
  },
  {
   "cell_type": "code",
   "execution_count": 60,
   "metadata": {},
   "outputs": [],
   "source": [
    "'''create the min mobility dates dataframe'''\n",
    "\n",
    "# retail-residential\n",
    "cols_min= min_idx_df.columns[:-1]\n",
    "\n",
    "# dates at which min mobility occur for particular location type and country\n",
    "dates_df=pd.DataFrame(map(get_date, min_idx_df[cols_min])).transpose()\n",
    "\n",
    "# convert dates to datetime\n",
    "dates_df=dates_df.apply(pd.to_datetime)"
   ]
  },
  {
   "cell_type": "code",
   "execution_count": 61,
   "metadata": {},
   "outputs": [],
   "source": [
    "# define a function to get n countries with earliest and latest mobility slow-down\n",
    "def earliest_countries(col, n=10):\n",
    "    \n",
    "    \"\"\"\n",
    "    DESCRIPTION: create 2 dataframes with n earliest and n latest countries in response (to reach min)\n",
    "        \n",
    "    INPUT: col - (pandas.Series) col from dataframe\n",
    " \n",
    "    OUTPUT: nsmallest.index - (pandas.core.indexes.base.Index) n countries with earliest date\n",
    "            \n",
    "              \n",
    "    \"\"\"\n",
    "    # get 10 countries with earliest date\n",
    "    nsmallest= col.nsmallest(n)\n",
    "    \n",
    "    # return name of country\n",
    "    return nsmallest.index\n",
    "    \n",
    "        "
   ]
  },
  {
   "cell_type": "code",
   "execution_count": 62,
   "metadata": {},
   "outputs": [],
   "source": [
    "# define a function to get n countries with earliest and latest mobility slow-down\n",
    "def latest_countries(col, n=10):\n",
    "    \n",
    "    \"\"\"\n",
    "    DESCRIPTION: create 2 dataframes with n earliest and n latest countries in response (to reach min)\n",
    "        \n",
    "    INPUT: col - (pandas.Series) col from dataframe\n",
    " \n",
    "    OUTPUT: nlargest_df - (pandas.core.indexes.base.Index) n countries with latest date\n",
    "              \n",
    "    \"\"\"\n",
    "    # get 10 countries with earliest date\n",
    "    nlargest= col.nlargest(n)\n",
    "    \n",
    "    # return name of country\n",
    "    return nlargest.index\n",
    "    \n",
    "        "
   ]
  },
  {
   "cell_type": "code",
   "execution_count": 63,
   "metadata": {},
   "outputs": [],
   "source": [
    "# Plot the dates in 1-d \n",
    "def show_timeline(cols, dates=None, dates_for=''):\n",
    "   \n",
    "    \"\"\"\n",
    "    DESCRIPTION: plots dates of min/max occurrance in one dimension for all cols\n",
    "        \n",
    "    INPUT: cols - (list) list of column names to plot \n",
    " \n",
    "    OUTPUT:   \n",
    "    \"\"\"\n",
    "    \n",
    "    # if dates is not provided, This is used to plot countries\n",
    "    if dates is None:\n",
    "        # loop through every column\n",
    "        for i, col in enumerate(cols):\n",
    "\n",
    "\n",
    "            # get dates ready for plotting\n",
    "            dates=pd.to_datetime(get_date(col))\n",
    "\n",
    "            # for plotting in 1-d\n",
    "            y=np.zeros(dates.shape)\n",
    "\n",
    "            plt.scatter(x=dates, y=y-i, label=col.replace('_percent_change_from_baseline', ''));\n",
    "        \n",
    "        plt.title(' One Dimensional\\nDates at which countries reached the slowest mobility');\n",
    "    \n",
    "    # used to plot others, e.g. continents\n",
    "    else:\n",
    "        # loop through every column\n",
    "        for i, col in enumerate(cols):\n",
    "\n",
    "\n",
    "            # get dates ready for plotting\n",
    "            col_dates=dates[col]\n",
    "\n",
    "            # for plotting in 1-d\n",
    "            y=np.zeros(col_dates.shape)\n",
    "\n",
    "            plt.scatter(x=col_dates, y=y-i, label=col.replace('_percent_change_from_baseline', ''));\n",
    "            \n",
    "        plt.title(' One Dimensional\\nDates at which {} reached the slowest mobility'.format(dates_for));\n",
    "\n",
    "   \n",
    "    plt.xlabel('date')\n",
    "    plt.ylabel('for seperation')\n",
    "    start= pd.to_datetime('2020-2')\n",
    "    end= pd.to_datetime('2020-7')\n",
    "    plt.xlim((start, end))\n",
    "    plt.legend(bbox_to_anchor=(1.1, 1.05))\n",
    "    plt.show()"
   ]
  },
  {
   "cell_type": "code",
   "execution_count": 64,
   "metadata": {
    "scrolled": true
   },
   "outputs": [],
   "source": [
    "'''Implement continent analysis: average mobility slow-down'''\n",
    "\n",
    "def get_continent_mean(df=min_df.drop('corona_cases', axis=1)):\n",
    "    \"\"\"\n",
    "    DESCRIPTION: gets the mean of min mobility for each continent\n",
    "        \n",
    "    INPUT: df - (pandas.DataFrame) country for index, location types for columns, mins for values.\n",
    " \n",
    "    OUTPUT: continent_mean_df - (pandas.DataFrame) dataframe with mean for each continent and location type \n",
    "    \"\"\"\n",
    "    # group mins based on continent\n",
    "    group_continent_min= df.groupby(by='continent')\n",
    "\n",
    "    # Compute mean of mins for each continent\n",
    "    continent_mean_df=group_continent_min.mean()\n",
    "    \n",
    "    return continent_mean_df"
   ]
  },
  {
   "cell_type": "code",
   "execution_count": 65,
   "metadata": {},
   "outputs": [],
   "source": [
    "'''Implement continent analysis: mean dates of mobility slow-down'''\n",
    "\n",
    "def get_continent_mean_date(df=dates_df, continent_col=min_df.continent):\n",
    "    \"\"\"\n",
    "    DESCRIPTION: gets the median date at which min occurs for each continent and location type\n",
    "        \n",
    "    INPUT: df - (pandas.DataFrame) country for index, location types for columns, dates for values.\n",
    "           continent_col - (pandas.Series) continent column from dataset\n",
    " \n",
    "    OUTPUT: continent_median_date - (pandas.DataFrame) dataframe with mean date for each continent and location type \n",
    "    \"\"\"\n",
    "    # make a copy of df\n",
    "    df_new=df.copy()\n",
    "    \n",
    "    # add continent column\n",
    "    df_new['continent']= continent_col\n",
    "    \n",
    "    # group mins based on continent\n",
    "    group_continent_min_date= df_new.groupby(by='continent')\n",
    "    \n",
    "    # get list of continents\n",
    "    continents=list(group_continent_min_date.groups.keys())\n",
    "    \n",
    "    # create df to fill\n",
    "    continent_mean_date_df=pd.DataFrame(columns=group_continent_min_date.dtypes.columns)\n",
    "    \n",
    "    # cannot obtain mean date from groupby\n",
    "    for continent in continents:\n",
    "        \n",
    "        #print(group_continent_min_date.get_group(continent))\n",
    "        \n",
    "        # for continent, get mean for all cols\n",
    "        mean_date=group_continent_min_date.get_group(continent).apply(pd.Series.mean)\n",
    "        \n",
    "        # get rid of time and keep date\n",
    "        mean_date_only=mean_date.apply(pd.Timestamp.date)\n",
    "        \n",
    "        # put in dataframe\n",
    "        continent_mean_date_df.loc[continent]= mean_date_only\n",
    "    \n",
    "    \n",
    "    return continent_mean_date_df"
   ]
  },
  {
   "cell_type": "markdown",
   "metadata": {},
   "source": [
    "## Refinement"
   ]
  },
  {
   "cell_type": "code",
   "execution_count": 66,
   "metadata": {},
   "outputs": [],
   "source": [
    "''' Because column names are long, dataframe will look too wide. It will be nicer to get rid of \n",
    "    \"percent_change_from baseline\", which prevents from looking at data in a simplified manner '''\n",
    "\n",
    "# use this function to make data easier to look at\n",
    "def clean_col_name(df):\n",
    "    \n",
    "    \"\"\"\n",
    "    DESCRIPTION: remove long form of column name\n",
    "        \n",
    "    INPUT: df - (pandas.DataFrame) dataframe for which columns are replaced\n",
    " \n",
    "    OUTPUT: df_new - (pandas.DataFrame) ==df with short version of column names\n",
    "    \"\"\"\n",
    "    # remove '_percent_change_from_baseline'\n",
    "    reduce= lambda col_name: col_name.replace('_percent_change_from_baseline', '')\n",
    "\n",
    "    # make a copy of df\n",
    "    df_new=df.copy()\n",
    "    \n",
    "    # dates dataframe\n",
    "    df_new.columns= list(map(reduce, df_new.columns))\n",
    "\n",
    "    return df_new"
   ]
  },
  {
   "cell_type": "markdown",
   "metadata": {},
   "source": [
    "#### Solving problems with min day"
   ]
  },
  {
   "cell_type": "code",
   "execution_count": 67,
   "metadata": {},
   "outputs": [],
   "source": [
    "'''The method (metric) employed in observing global mobility in the times of covid-19 has several issues.\n",
    "   one of these issues is special events, which could cause a considerable change from baseline while not having any\n",
    "   relation to the virus. For this reason, a new method will take the average of a week and determine which week had \n",
    "   the lowest average in mobility. This will help circumvent the problem with special events'''\n",
    "\n",
    "def get_week_avg(col):\n",
    "    \"\"\"\n",
    "    DESCRIPTION: get average value in a week for numeric and date columns\n",
    "        \n",
    "    INPUT: col - (pandas.Series) column which is divided in weeks\n",
    " \n",
    "    OUTPUT: means_col - (pandas.Series) col with the mean of every week \n",
    "    \"\"\"\n",
    "    \n",
    "    # get number of weeks\n",
    "    num_weeks= int(col.shape[0]/7)\n",
    "    \n",
    "    # get remainder days (to add to the last week)\n",
    "    rem= col.shape[0] % 7\n",
    "    \n",
    "    means= []\n",
    "    \n",
    "    # check if col is a dates col\n",
    "    if isinstance(col.iloc[0], str):\n",
    "    \n",
    "        # loop for every week\n",
    "        for i in range(num_weeks):\n",
    "\n",
    "            # if last week\n",
    "            if i==(num_weeks-1):\n",
    "                week=pd.to_datetime(col.iloc[i*7:])\n",
    "\n",
    "\n",
    "            else:\n",
    "                # take elements by week\n",
    "                week=pd.to_datetime(col.iloc[i*7:(i+1)*7])\n",
    "\n",
    "\n",
    "            # take the mean and append date only\n",
    "            means.append(week.mean().date())\n",
    "    \n",
    "    # case if col is not a date col (numeric)\n",
    "    else:\n",
    "        \n",
    "        # loop for every week\n",
    "        for i in range(num_weeks):\n",
    "\n",
    "            # if last week\n",
    "            if i==(num_weeks-1):\n",
    "                \n",
    "                # append all values beginning from final week\n",
    "                week=col.iloc[i*7:]\n",
    "\n",
    "\n",
    "            else:\n",
    "                # take elements by week\n",
    "                week=col.iloc[i*7:(i+1)*7]\n",
    "\n",
    "\n",
    "            # append mean of week to list\n",
    "            means.append(week.mean())\n",
    "            \n",
    "    means_col= pd.Series(means)\n",
    "    \n",
    "    return means_col    "
   ]
  },
  {
   "cell_type": "code",
   "execution_count": 68,
   "metadata": {},
   "outputs": [],
   "source": [
    "def country_in_weeks(col):\n",
    "    \"\"\"\n",
    "    DESCRIPTION: organize country code and continent row to look at week-wise\n",
    "        \n",
    "    INPUT: col - (pandas.Series) column which is divided in weeks\n",
    " \n",
    "    OUTPUT: ser - (pandas.Series) country code or continent with num_weeks elements\n",
    "    \"\"\"\n",
    "    \n",
    "    # get number of weeks in data\n",
    "    num_weeks= int(col.shape[0]/7)\n",
    "    \n",
    "    # get only num_weeks elements and reset index to match avg_week function\n",
    "    ser=col.iloc[:num_weeks].reset_index(drop=True)\n",
    "    \n",
    "    return ser\n",
    "    "
   ]
  },
  {
   "cell_type": "code",
   "execution_count": 69,
   "metadata": {},
   "outputs": [],
   "source": [
    "'''Use two functions above to create a mobility dataset organized week-wise with values in averages.\n",
    "   covid-cases col will be dropped because it is not in the scope of the analysis'''\n",
    "\n",
    "def create_mobil_week(group=group_country, countries=countries_ordered, columns=list(mobil_df_new)[:-1], \n",
    "                      country_attribute_cols=['country_region_code', 'continent'], cols_to_drop=[],\n",
    "                      group_col='country_region'):\n",
    "    \"\"\"\n",
    "    DESCRIPTION: get average of every week for every country\n",
    "        \n",
    "    INPUT: group - (pandas.core.groupby.generic.DataFrameGroupBy) dataset grouped by country\n",
    "           countries - (list) list of countries as ordered as dataset (mobil_df_new)\n",
    "           columns - (list) list of columns in dataset (except corona_cases if default)\n",
    "           country_attribute_cols - (list) specifies cols which are attributes of country\n",
    "           cols_to_drop - (list) columns to not include from dataset\n",
    "           group_col - (str) column by which dataset was grouped\n",
    " \n",
    "    OUTPUT: df_week - (pandas.DataFrame) dataset reduced to week averages \n",
    "    \"\"\"\n",
    "    \n",
    "    # create df_week dataframe\n",
    "    df_week=pd.DataFrame(columns=columns)\n",
    "    \n",
    "    \n",
    "    # loop through every country to get average\n",
    "    for country in countries:\n",
    "        \n",
    "        # get rows of country\n",
    "        country_df=group.get_group(country)\n",
    "        \n",
    "        # ready country_df for get_avg_week\n",
    "        country_df_date_numeric= country_df.drop(labels=country_attribute_cols+cols_to_drop, axis=1)\n",
    "        \n",
    "        # ready country_df for country_in_weeks\n",
    "        country_df_country_cols= country_df[country_attribute_cols]\n",
    "        \n",
    "        # get week numeric averages and week mid date\n",
    "        temp_df_1= country_df_date_numeric.apply(get_week_avg)\n",
    "        \n",
    "        # get country attribute cols to match num rows of temp_df_1\n",
    "        temp_df_2= country_df_country_cols.apply(country_in_weeks)\n",
    "        \n",
    "        # get country_region col\n",
    "        temp_col=pd.Series([country for i in range(temp_df_1.shape[0])], name=group_col)\n",
    "        \n",
    "        # concatenate temps\n",
    "        concat= pd.concat([temp_col, temp_df_2 , temp_df_1], axis=1, sort= True)\n",
    "        \n",
    "        # append concat df to df_week\n",
    "        df_week=df_week.append(concat, sort=True)\n",
    "        \n",
    "    # reset df_week index\n",
    "    df_week=df_week.reset_index(drop=True)\n",
    "    \n",
    "    # organize columns to have the same order as mobil_df_new\n",
    "    df_week= df_week[columns]\n",
    "        \n",
    "        \n",
    "    return df_week   "
   ]
  },
  {
   "cell_type": "code",
   "execution_count": 70,
   "metadata": {},
   "outputs": [],
   "source": [
    "mobil_df_week=create_mobil_week(cols_to_drop=['corona_cases'])"
   ]
  },
  {
   "cell_type": "code",
   "execution_count": 71,
   "metadata": {},
   "outputs": [],
   "source": [
    "# group mobil_df_week by country and create min_week_df and min_week_idx_df to use for implementation functions\n",
    "\n",
    "# group by country\n",
    "group_country_week= mobil_df_week.groupby(by='country_region')\n",
    "\n",
    "# find greatest mobility drop (week avg)\n",
    "min_week_df=group_country_week.min()\n",
    "\n",
    "# modify resedential\n",
    "min_week_df['residential_percent_change_from_baseline']= group_country_week.max()['residential_percent_change_from_baseline']\n",
    "\n",
    "# find index at which it occurs (median date of the week)\n",
    "min_week_idx_df= group_country_week.idxmin()\n",
    "\n",
    "# modify resedential\n",
    "min_week_idx_df['residential_percent_change_from_baseline']= group_country_week.idxmax()['residential_percent_change_from_baseline']\n"
   ]
  },
  {
   "cell_type": "code",
   "execution_count": 72,
   "metadata": {},
   "outputs": [],
   "source": [
    "# create dates_df_week for implementation functions\n",
    "\n",
    "# retail-resedential\n",
    "cols_min= list(min_week_idx_df.columns)\n",
    "\n",
    "# define lambda function to for get date with differents arguments\n",
    "get_week_date= lambda col_name: get_date(col_name=col_name, df=mobil_df_week, idx_df=min_week_idx_df)\n",
    "\n",
    "# dates at which min occur for particular location type and country\n",
    "dates_df_week=pd.DataFrame(map(get_week_date, cols_min)).transpose()\n",
    "\n",
    "# convert it from datetime.date to datetime\n",
    "dates_df_week= dates_df_week.apply(pd.to_datetime)"
   ]
  },
  {
   "cell_type": "markdown",
   "metadata": {},
   "source": [
    "## Results"
   ]
  },
  {
   "cell_type": "markdown",
   "metadata": {},
   "source": [
    "#### Results without refinement:"
   ]
  },
  {
   "cell_type": "markdown",
   "metadata": {},
   "source": [
    "#### First to take a look at continents"
   ]
  },
  {
   "cell_type": "code",
   "execution_count": 73,
   "metadata": {
    "scrolled": true
   },
   "outputs": [
    {
     "data": {
      "image/png": "[encoded data removed]",
      "text/plain": [
       "<Figure size 432x288 with 1 Axes>"
      ]
     },
     "metadata": {
      "needs_background": "light"
     },
     "output_type": "display_data"
    }
   ],
   "source": [
    "'''take average over max mobility drop in every country for each continent and plot result'''\n",
    "# plot continent analysis\n",
    "continent_mean_df=clean_col_name(get_continent_mean())\n",
    "continent_mean_df.plot.barh();\n",
    "plt.legend(bbox_to_anchor=(1.1, 1.05));\n",
    "plt.xlabel('percent change from baseline');\n",
    "\n",
    "# As shown, Africa on average did not experience huge drop in mobility as much as other continents"
   ]
  },
  {
   "cell_type": "code",
   "execution_count": 74,
   "metadata": {
    "scrolled": true
   },
   "outputs": [
    {
     "data": {
      "image/png": "[encoded data removed]",
      "text/plain": [
       "<Figure size 432x288 with 1 Axes>"
      ]
     },
     "metadata": {
      "needs_background": "light"
     },
     "output_type": "display_data"
    }
   ],
   "source": [
    "# get a look at continents mean date of reaching slowest mobility - each dot is represents a continent' date\n",
    "continent_dates=get_continent_mean_date()\n",
    "cols=continent_dates.columns\n",
    "\n",
    "show_timeline(cols=cols, dates=continent_dates, dates_for='continents')"
   ]
  },
  {
   "cell_type": "code",
   "execution_count": 75,
   "metadata": {
    "scrolled": false
   },
   "outputs": [
    {
     "data": {
      "text/html": [
       "<div>\n",
       "<style scoped>\n",
       "    .dataframe tbody tr th:only-of-type {\n",
       "        vertical-align: middle;\n",
       "    }\n",
       "\n",
       "    .dataframe tbody tr th {\n",
       "        vertical-align: top;\n",
       "    }\n",
       "\n",
       "    .dataframe thead th {\n",
       "        text-align: right;\n",
       "    }\n",
       "</style>\n",
       "<table border=\"1\" class=\"dataframe\">\n",
       "  <thead>\n",
       "    <tr style=\"text-align: right;\">\n",
       "      <th></th>\n",
       "      <th>retail_and_recreation</th>\n",
       "      <th>grocery_and_pharmacy</th>\n",
       "      <th>parks</th>\n",
       "      <th>transit_stations</th>\n",
       "      <th>workplaces</th>\n",
       "      <th>residential</th>\n",
       "    </tr>\n",
       "  </thead>\n",
       "  <tbody>\n",
       "    <tr>\n",
       "      <th>AF</th>\n",
       "      <td>2020-04-13</td>\n",
       "      <td>2020-04-11</td>\n",
       "      <td>2020-04-15</td>\n",
       "      <td>2020-04-12</td>\n",
       "      <td>2020-04-11</td>\n",
       "      <td>2020-04-14</td>\n",
       "    </tr>\n",
       "    <tr>\n",
       "      <th>AS</th>\n",
       "      <td>2020-04-08</td>\n",
       "      <td>2020-04-06</td>\n",
       "      <td>2020-04-11</td>\n",
       "      <td>2020-04-07</td>\n",
       "      <td>2020-04-10</td>\n",
       "      <td>2020-04-13</td>\n",
       "    </tr>\n",
       "    <tr>\n",
       "      <th>EU</th>\n",
       "      <td>2020-04-10</td>\n",
       "      <td>2020-04-13</td>\n",
       "      <td>2020-03-23</td>\n",
       "      <td>2020-04-10</td>\n",
       "      <td>2020-04-14</td>\n",
       "      <td>2020-04-13</td>\n",
       "    </tr>\n",
       "    <tr>\n",
       "      <th>NA</th>\n",
       "      <td>2020-04-08</td>\n",
       "      <td>2020-04-09</td>\n",
       "      <td>2020-04-09</td>\n",
       "      <td>2020-04-11</td>\n",
       "      <td>2020-04-09</td>\n",
       "      <td>2020-04-12</td>\n",
       "    </tr>\n",
       "    <tr>\n",
       "      <th>OC</th>\n",
       "      <td>2020-04-10</td>\n",
       "      <td>2020-04-10</td>\n",
       "      <td>2020-04-16</td>\n",
       "      <td>2020-04-07</td>\n",
       "      <td>2020-04-10</td>\n",
       "      <td>2020-04-10</td>\n",
       "    </tr>\n",
       "    <tr>\n",
       "      <th>SA</th>\n",
       "      <td>2020-04-10</td>\n",
       "      <td>2020-04-16</td>\n",
       "      <td>2020-04-06</td>\n",
       "      <td>2020-04-09</td>\n",
       "      <td>2020-04-08</td>\n",
       "      <td>2020-04-08</td>\n",
       "    </tr>\n",
       "  </tbody>\n",
       "</table>\n",
       "</div>"
      ],
      "text/plain": [
       "   retail_and_recreation grocery_and_pharmacy       parks transit_stations  \\\n",
       "AF            2020-04-13           2020-04-11  2020-04-15       2020-04-12   \n",
       "AS            2020-04-08           2020-04-06  2020-04-11       2020-04-07   \n",
       "EU            2020-04-10           2020-04-13  2020-03-23       2020-04-10   \n",
       "NA            2020-04-08           2020-04-09  2020-04-09       2020-04-11   \n",
       "OC            2020-04-10           2020-04-10  2020-04-16       2020-04-07   \n",
       "SA            2020-04-10           2020-04-16  2020-04-06       2020-04-09   \n",
       "\n",
       "    workplaces residential  \n",
       "AF  2020-04-11  2020-04-14  \n",
       "AS  2020-04-10  2020-04-13  \n",
       "EU  2020-04-14  2020-04-13  \n",
       "NA  2020-04-09  2020-04-12  \n",
       "OC  2020-04-10  2020-04-10  \n",
       "SA  2020-04-08  2020-04-08  "
      ]
     },
     "execution_count": 75,
     "metadata": {},
     "output_type": "execute_result"
    }
   ],
   "source": [
    "# a look at the actual data\n",
    "clean_col_name(continent_dates)"
   ]
  },
  {
   "cell_type": "markdown",
   "metadata": {},
   "source": [
    "#### Now break down by country: look at dates at which countries reached minimum mobility"
   ]
  },
  {
   "cell_type": "code",
   "execution_count": 76,
   "metadata": {},
   "outputs": [],
   "source": [
    "cols=list(mobil_df_new.columns[4:-1])"
   ]
  },
  {
   "cell_type": "code",
   "execution_count": 77,
   "metadata": {
    "scrolled": false
   },
   "outputs": [
    {
     "data": {
      "image/png": "[encoded data removed]",
      "text/plain": [
       "<Figure size 432x288 with 1 Axes>"
      ]
     },
     "metadata": {
      "needs_background": "light"
     },
     "output_type": "display_data"
    }
   ],
   "source": [
    "# dates at which counties experienced greatest mobility slow-down \n",
    "# each dot represents a country's date of max drop\n",
    "show_timeline(cols)"
   ]
  },
  {
   "cell_type": "code",
   "execution_count": 78,
   "metadata": {},
   "outputs": [],
   "source": [
    "# get short col version of dates\n",
    "dates_df_clean=clean_col_name(dates_df)"
   ]
  },
  {
   "cell_type": "code",
   "execution_count": 79,
   "metadata": {
    "scrolled": true
   },
   "outputs": [
    {
     "data": {
      "text/html": [
       "<div>\n",
       "<style scoped>\n",
       "    .dataframe tbody tr th:only-of-type {\n",
       "        vertical-align: middle;\n",
       "    }\n",
       "\n",
       "    .dataframe tbody tr th {\n",
       "        vertical-align: top;\n",
       "    }\n",
       "\n",
       "    .dataframe thead th {\n",
       "        text-align: right;\n",
       "    }\n",
       "</style>\n",
       "<table border=\"1\" class=\"dataframe\">\n",
       "  <thead>\n",
       "    <tr style=\"text-align: right;\">\n",
       "      <th></th>\n",
       "      <th>retail_and_recreation</th>\n",
       "      <th>grocery_and_pharmacy</th>\n",
       "      <th>parks</th>\n",
       "      <th>transit_stations</th>\n",
       "      <th>workplaces</th>\n",
       "      <th>residential</th>\n",
       "    </tr>\n",
       "  </thead>\n",
       "  <tbody>\n",
       "    <tr>\n",
       "      <th>0</th>\n",
       "      <td>Mongolia</td>\n",
       "      <td>Taiwan</td>\n",
       "      <td>Denmark</td>\n",
       "      <td>Mongolia</td>\n",
       "      <td>Angola</td>\n",
       "      <td>Mongolia</td>\n",
       "    </tr>\n",
       "    <tr>\n",
       "      <th>1</th>\n",
       "      <td>South Korea</td>\n",
       "      <td>South Korea</td>\n",
       "      <td>Finland</td>\n",
       "      <td>South Korea</td>\n",
       "      <td>Mongolia</td>\n",
       "      <td>Jordan</td>\n",
       "    </tr>\n",
       "    <tr>\n",
       "      <th>2</th>\n",
       "      <td>Sri Lanka</td>\n",
       "      <td>Mongolia</td>\n",
       "      <td>Netherlands</td>\n",
       "      <td>Sri Lanka</td>\n",
       "      <td>Iraq</td>\n",
       "      <td>Bosnia and Herzegovina</td>\n",
       "    </tr>\n",
       "    <tr>\n",
       "      <th>3</th>\n",
       "      <td>Austria</td>\n",
       "      <td>Egypt</td>\n",
       "      <td>Sweden</td>\n",
       "      <td>Bosnia and Herzegovina</td>\n",
       "      <td>Jordan</td>\n",
       "      <td>Greece</td>\n",
       "    </tr>\n",
       "    <tr>\n",
       "      <th>4</th>\n",
       "      <td>Bulgaria</td>\n",
       "      <td>Iraq</td>\n",
       "      <td>Latvia</td>\n",
       "      <td>Iraq</td>\n",
       "      <td>Kuwait</td>\n",
       "      <td>Mauritius</td>\n",
       "    </tr>\n",
       "    <tr>\n",
       "      <th>5</th>\n",
       "      <td>Malta</td>\n",
       "      <td>Sri Lanka</td>\n",
       "      <td>South Korea</td>\n",
       "      <td>Malta</td>\n",
       "      <td>Oman</td>\n",
       "      <td>Iraq</td>\n",
       "    </tr>\n",
       "    <tr>\n",
       "      <th>6</th>\n",
       "      <td>Slovenia</td>\n",
       "      <td>India</td>\n",
       "      <td>Mongolia</td>\n",
       "      <td>Argentina</td>\n",
       "      <td>Argentina</td>\n",
       "      <td>Croatia</td>\n",
       "    </tr>\n",
       "    <tr>\n",
       "      <th>7</th>\n",
       "      <td>Greece</td>\n",
       "      <td>Liechtenstein</td>\n",
       "      <td>Norway</td>\n",
       "      <td>Croatia</td>\n",
       "      <td>Pakistan</td>\n",
       "      <td>Ecuador</td>\n",
       "    </tr>\n",
       "    <tr>\n",
       "      <th>8</th>\n",
       "      <td>Mauritius</td>\n",
       "      <td>Malaysia</td>\n",
       "      <td>Austria</td>\n",
       "      <td>Greece</td>\n",
       "      <td>Ecuador</td>\n",
       "      <td>Lebanon</td>\n",
       "    </tr>\n",
       "    <tr>\n",
       "      <th>9</th>\n",
       "      <td>Iraq</td>\n",
       "      <td>Greece</td>\n",
       "      <td>Czechia</td>\n",
       "      <td>Libya</td>\n",
       "      <td>Greece</td>\n",
       "      <td>Moldova</td>\n",
       "    </tr>\n",
       "  </tbody>\n",
       "</table>\n",
       "</div>"
      ],
      "text/plain": [
       "  retail_and_recreation grocery_and_pharmacy        parks  \\\n",
       "0              Mongolia               Taiwan      Denmark   \n",
       "1           South Korea          South Korea      Finland   \n",
       "2             Sri Lanka             Mongolia  Netherlands   \n",
       "3               Austria                Egypt       Sweden   \n",
       "4              Bulgaria                 Iraq       Latvia   \n",
       "5                 Malta            Sri Lanka  South Korea   \n",
       "6              Slovenia                India     Mongolia   \n",
       "7                Greece        Liechtenstein       Norway   \n",
       "8             Mauritius             Malaysia      Austria   \n",
       "9                  Iraq               Greece      Czechia   \n",
       "\n",
       "         transit_stations workplaces             residential  \n",
       "0                Mongolia     Angola                Mongolia  \n",
       "1             South Korea   Mongolia                  Jordan  \n",
       "2               Sri Lanka       Iraq  Bosnia and Herzegovina  \n",
       "3  Bosnia and Herzegovina     Jordan                  Greece  \n",
       "4                    Iraq     Kuwait               Mauritius  \n",
       "5                   Malta       Oman                    Iraq  \n",
       "6               Argentina  Argentina                 Croatia  \n",
       "7                 Croatia   Pakistan                 Ecuador  \n",
       "8                  Greece    Ecuador                 Lebanon  \n",
       "9                   Libya     Greece                 Moldova  "
      ]
     },
     "execution_count": 79,
     "metadata": {},
     "output_type": "execute_result"
    }
   ],
   "source": [
    "# countries with earliest mobility slow-down (starts with earliest country)\n",
    "dates_df_clean.apply(earliest_countries, axis=0)"
   ]
  },
  {
   "cell_type": "code",
   "execution_count": 80,
   "metadata": {
    "scrolled": true
   },
   "outputs": [
    {
     "data": {
      "text/html": [
       "<div>\n",
       "<style scoped>\n",
       "    .dataframe tbody tr th:only-of-type {\n",
       "        vertical-align: middle;\n",
       "    }\n",
       "\n",
       "    .dataframe tbody tr th {\n",
       "        vertical-align: top;\n",
       "    }\n",
       "\n",
       "    .dataframe thead th {\n",
       "        text-align: right;\n",
       "    }\n",
       "</style>\n",
       "<table border=\"1\" class=\"dataframe\">\n",
       "  <thead>\n",
       "    <tr style=\"text-align: right;\">\n",
       "      <th></th>\n",
       "      <th>retail_and_recreation</th>\n",
       "      <th>grocery_and_pharmacy</th>\n",
       "      <th>parks</th>\n",
       "      <th>transit_stations</th>\n",
       "      <th>workplaces</th>\n",
       "      <th>residential</th>\n",
       "    </tr>\n",
       "  </thead>\n",
       "  <tbody>\n",
       "    <tr>\n",
       "      <th>0</th>\n",
       "      <td>Tajikistan</td>\n",
       "      <td>Senegal</td>\n",
       "      <td>Tajikistan</td>\n",
       "      <td>Japan</td>\n",
       "      <td>South Korea</td>\n",
       "      <td>Yemen</td>\n",
       "    </tr>\n",
       "    <tr>\n",
       "      <th>1</th>\n",
       "      <td>Bosnia and Herzegovina</td>\n",
       "      <td>Tajikistan</td>\n",
       "      <td>Afghanistan</td>\n",
       "      <td>Tajikistan</td>\n",
       "      <td>Tajikistan</td>\n",
       "      <td>Japan</td>\n",
       "    </tr>\n",
       "    <tr>\n",
       "      <th>2</th>\n",
       "      <td>Finland</td>\n",
       "      <td>Yemen</td>\n",
       "      <td>Mali</td>\n",
       "      <td>Honduras</td>\n",
       "      <td>Japan</td>\n",
       "      <td>Tajikistan</td>\n",
       "    </tr>\n",
       "    <tr>\n",
       "      <th>3</th>\n",
       "      <td>Germany</td>\n",
       "      <td>Argentina</td>\n",
       "      <td>Papua New Guinea</td>\n",
       "      <td>Mali</td>\n",
       "      <td>Bahrain</td>\n",
       "      <td>Barbados</td>\n",
       "    </tr>\n",
       "    <tr>\n",
       "      <th>4</th>\n",
       "      <td>Mali</td>\n",
       "      <td>Bosnia and Herzegovina</td>\n",
       "      <td>Philippines</td>\n",
       "      <td>Benin</td>\n",
       "      <td>Yemen</td>\n",
       "      <td>Belarus</td>\n",
       "    </tr>\n",
       "    <tr>\n",
       "      <th>5</th>\n",
       "      <td>Senegal</td>\n",
       "      <td>Cape Verde</td>\n",
       "      <td>Bangladesh</td>\n",
       "      <td>Liechtenstein</td>\n",
       "      <td>Bosnia and Herzegovina</td>\n",
       "      <td>Belgium</td>\n",
       "    </tr>\n",
       "    <tr>\n",
       "      <th>6</th>\n",
       "      <td>Sweden</td>\n",
       "      <td>Chile</td>\n",
       "      <td>Kenya</td>\n",
       "      <td>Niger</td>\n",
       "      <td>Cambodia</td>\n",
       "      <td>Belize</td>\n",
       "    </tr>\n",
       "    <tr>\n",
       "      <th>7</th>\n",
       "      <td>Tanzania</td>\n",
       "      <td>Finland</td>\n",
       "      <td>Nigeria</td>\n",
       "      <td>Senegal</td>\n",
       "      <td>Cameroon</td>\n",
       "      <td>France</td>\n",
       "    </tr>\n",
       "    <tr>\n",
       "      <th>8</th>\n",
       "      <td>Uruguay</td>\n",
       "      <td>France</td>\n",
       "      <td>Senegal</td>\n",
       "      <td>Uruguay</td>\n",
       "      <td>Hong Kong</td>\n",
       "      <td>Indonesia</td>\n",
       "    </tr>\n",
       "    <tr>\n",
       "      <th>9</th>\n",
       "      <td>Nigeria</td>\n",
       "      <td>Réunion</td>\n",
       "      <td>Haiti</td>\n",
       "      <td>Afghanistan</td>\n",
       "      <td>Kazakhstan</td>\n",
       "      <td>Italy</td>\n",
       "    </tr>\n",
       "  </tbody>\n",
       "</table>\n",
       "</div>"
      ],
      "text/plain": [
       "    retail_and_recreation    grocery_and_pharmacy             parks  \\\n",
       "0              Tajikistan                 Senegal        Tajikistan   \n",
       "1  Bosnia and Herzegovina              Tajikistan       Afghanistan   \n",
       "2                 Finland                   Yemen              Mali   \n",
       "3                 Germany               Argentina  Papua New Guinea   \n",
       "4                    Mali  Bosnia and Herzegovina       Philippines   \n",
       "5                 Senegal              Cape Verde        Bangladesh   \n",
       "6                  Sweden                   Chile             Kenya   \n",
       "7                Tanzania                 Finland           Nigeria   \n",
       "8                 Uruguay                  France           Senegal   \n",
       "9                 Nigeria                 Réunion             Haiti   \n",
       "\n",
       "  transit_stations              workplaces residential  \n",
       "0            Japan             South Korea       Yemen  \n",
       "1       Tajikistan              Tajikistan       Japan  \n",
       "2         Honduras                   Japan  Tajikistan  \n",
       "3             Mali                 Bahrain    Barbados  \n",
       "4            Benin                   Yemen     Belarus  \n",
       "5    Liechtenstein  Bosnia and Herzegovina     Belgium  \n",
       "6            Niger                Cambodia      Belize  \n",
       "7          Senegal                Cameroon      France  \n",
       "8          Uruguay               Hong Kong   Indonesia  \n",
       "9      Afghanistan              Kazakhstan       Italy  "
      ]
     },
     "execution_count": 80,
     "metadata": {},
     "output_type": "execute_result"
    }
   ],
   "source": [
    "# countries with latest mobility slow-down (starts with latest country)\n",
    "dates_df_clean.apply(latest_countries, axis=0)"
   ]
  },
  {
   "cell_type": "code",
   "execution_count": 81,
   "metadata": {},
   "outputs": [
    {
     "data": {
      "text/plain": [
       "retail_and_recreation   2020-02-25\n",
       "grocery_and_pharmacy    2020-02-25\n",
       "parks                   2020-03-12\n",
       "transit_stations        2020-02-26\n",
       "workplaces              2020-02-25\n",
       "residential             2020-02-26\n",
       "Name: Mongolia, dtype: datetime64[ns]"
      ]
     },
     "execution_count": 81,
     "metadata": {},
     "output_type": "execute_result"
    }
   ],
   "source": [
    "# Mongolia is earliest to reduce time spent in public locations and increase stay at home \n",
    "dates_df_clean.loc['Mongolia']"
   ]
  },
  {
   "cell_type": "code",
   "execution_count": 82,
   "metadata": {
    "scrolled": true
   },
   "outputs": [
    {
     "data": {
      "text/plain": [
       "retail_and_recreation   2020-03-01\n",
       "grocery_and_pharmacy    2020-02-23\n",
       "parks                   2020-02-25\n",
       "transit_stations        2020-03-01\n",
       "workplaces              2020-05-05\n",
       "residential             2020-04-15\n",
       "Name: South Korea, dtype: datetime64[ns]"
      ]
     },
     "execution_count": 82,
     "metadata": {},
     "output_type": "execute_result"
    }
   ],
   "source": [
    "# South Korea had an early response with public places but late for workplaces\n",
    "dates_df_clean.loc['South Korea']"
   ]
  },
  {
   "cell_type": "markdown",
   "metadata": {},
   "source": [
    "#### Take a look at mobility drops by country\n",
    "##### For simplification we'll look at 10 countries with greatest drop and 10 countries with least drop"
   ]
  },
  {
   "cell_type": "code",
   "execution_count": 83,
   "metadata": {
    "scrolled": true
   },
   "outputs": [
    {
     "data": {
      "text/html": [
       "<div>\n",
       "<style scoped>\n",
       "    .dataframe tbody tr th:only-of-type {\n",
       "        vertical-align: middle;\n",
       "    }\n",
       "\n",
       "    .dataframe tbody tr th {\n",
       "        vertical-align: top;\n",
       "    }\n",
       "\n",
       "    .dataframe thead th {\n",
       "        text-align: right;\n",
       "    }\n",
       "</style>\n",
       "<table border=\"1\" class=\"dataframe\">\n",
       "  <thead>\n",
       "    <tr style=\"text-align: right;\">\n",
       "      <th></th>\n",
       "      <th>retail_and_recreation</th>\n",
       "      <th>grocery_and_pharmacy</th>\n",
       "      <th>parks</th>\n",
       "      <th>transit_stations</th>\n",
       "      <th>workplaces</th>\n",
       "      <th>residential</th>\n",
       "    </tr>\n",
       "  </thead>\n",
       "  <tbody>\n",
       "    <tr>\n",
       "      <th>0</th>\n",
       "      <td>Réunion</td>\n",
       "      <td>The Bahamas</td>\n",
       "      <td>Réunion</td>\n",
       "      <td>The Bahamas</td>\n",
       "      <td>Israel</td>\n",
       "      <td>Singapore</td>\n",
       "    </tr>\n",
       "    <tr>\n",
       "      <th>1</th>\n",
       "      <td>Serbia</td>\n",
       "      <td>Serbia</td>\n",
       "      <td>Argentina</td>\n",
       "      <td>Barbados</td>\n",
       "      <td>Luxembourg</td>\n",
       "      <td>Botswana</td>\n",
       "    </tr>\n",
       "    <tr>\n",
       "      <th>2</th>\n",
       "      <td>The Bahamas</td>\n",
       "      <td>Aruba</td>\n",
       "      <td>Italy</td>\n",
       "      <td>Jordan</td>\n",
       "      <td>Antigua and Barbuda</td>\n",
       "      <td>Peru</td>\n",
       "    </tr>\n",
       "    <tr>\n",
       "      <th>3</th>\n",
       "      <td>Aruba</td>\n",
       "      <td>Peru</td>\n",
       "      <td>Bolivia</td>\n",
       "      <td>Peru</td>\n",
       "      <td>Aruba</td>\n",
       "      <td>The Bahamas</td>\n",
       "    </tr>\n",
       "    <tr>\n",
       "      <th>4</th>\n",
       "      <td>Israel</td>\n",
       "      <td>Réunion</td>\n",
       "      <td>Peru</td>\n",
       "      <td>Antigua and Barbuda</td>\n",
       "      <td>Mauritius</td>\n",
       "      <td>Panama</td>\n",
       "    </tr>\n",
       "    <tr>\n",
       "      <th>5</th>\n",
       "      <td>Italy</td>\n",
       "      <td>Antigua and Barbuda</td>\n",
       "      <td>Spain</td>\n",
       "      <td>Belize</td>\n",
       "      <td>Serbia</td>\n",
       "      <td>Zimbabwe</td>\n",
       "    </tr>\n",
       "    <tr>\n",
       "      <th>6</th>\n",
       "      <td>Panama</td>\n",
       "      <td>Barbados</td>\n",
       "      <td>Barbados</td>\n",
       "      <td>North Macedonia</td>\n",
       "      <td>Barbados</td>\n",
       "      <td>Bolivia</td>\n",
       "    </tr>\n",
       "    <tr>\n",
       "      <th>7</th>\n",
       "      <td>Peru</td>\n",
       "      <td>Bolivia</td>\n",
       "      <td>Aruba</td>\n",
       "      <td>Serbia</td>\n",
       "      <td>Italy</td>\n",
       "      <td>Sri Lanka</td>\n",
       "    </tr>\n",
       "    <tr>\n",
       "      <th>8</th>\n",
       "      <td>Spain</td>\n",
       "      <td>North Macedonia</td>\n",
       "      <td>Mauritius</td>\n",
       "      <td>Aruba</td>\n",
       "      <td>Liechtenstein</td>\n",
       "      <td>Portugal</td>\n",
       "    </tr>\n",
       "    <tr>\n",
       "      <th>9</th>\n",
       "      <td>Antigua and Barbuda</td>\n",
       "      <td>Panama</td>\n",
       "      <td>Portugal</td>\n",
       "      <td>Bolivia</td>\n",
       "      <td>North Macedonia</td>\n",
       "      <td>Ecuador</td>\n",
       "    </tr>\n",
       "  </tbody>\n",
       "</table>\n",
       "</div>"
      ],
      "text/plain": [
       "  retail_and_recreation grocery_and_pharmacy      parks     transit_stations  \\\n",
       "0               Réunion          The Bahamas    Réunion          The Bahamas   \n",
       "1                Serbia               Serbia  Argentina             Barbados   \n",
       "2           The Bahamas                Aruba      Italy               Jordan   \n",
       "3                 Aruba                 Peru    Bolivia                 Peru   \n",
       "4                Israel              Réunion       Peru  Antigua and Barbuda   \n",
       "5                 Italy  Antigua and Barbuda      Spain               Belize   \n",
       "6                Panama             Barbados   Barbados      North Macedonia   \n",
       "7                  Peru              Bolivia      Aruba               Serbia   \n",
       "8                 Spain      North Macedonia  Mauritius                Aruba   \n",
       "9   Antigua and Barbuda               Panama   Portugal              Bolivia   \n",
       "\n",
       "            workplaces  residential  \n",
       "0               Israel    Singapore  \n",
       "1           Luxembourg     Botswana  \n",
       "2  Antigua and Barbuda         Peru  \n",
       "3                Aruba  The Bahamas  \n",
       "4            Mauritius       Panama  \n",
       "5               Serbia     Zimbabwe  \n",
       "6             Barbados      Bolivia  \n",
       "7                Italy    Sri Lanka  \n",
       "8        Liechtenstein     Portugal  \n",
       "9      North Macedonia      Ecuador  "
      ]
     },
     "execution_count": 83,
     "metadata": {},
     "output_type": "execute_result"
    }
   ],
   "source": [
    "# modify min_df to have only baseline cols, and to have residential be consistent with other lambda functions\n",
    "min_df_mod= min_df.copy()\n",
    "\n",
    "# flip sign of values\n",
    "min_df_mod.residential_percent_change_from_baseline=-min_df.residential_percent_change_from_baseline\n",
    "\n",
    "# select columns of interest\n",
    "min_df_mod= min_df_mod[min_df_mod.columns[3:-1]]\n",
    "\n",
    "# 10 countries with greatest mobility drop\n",
    "clean_col_name(min_df_mod).apply(get_first_n)"
   ]
  },
  {
   "cell_type": "code",
   "execution_count": 84,
   "metadata": {
    "scrolled": false
   },
   "outputs": [
    {
     "data": {
      "text/html": [
       "<div>\n",
       "<style scoped>\n",
       "    .dataframe tbody tr th:only-of-type {\n",
       "        vertical-align: middle;\n",
       "    }\n",
       "\n",
       "    .dataframe tbody tr th {\n",
       "        vertical-align: top;\n",
       "    }\n",
       "\n",
       "    .dataframe thead th {\n",
       "        text-align: right;\n",
       "    }\n",
       "</style>\n",
       "<table border=\"1\" class=\"dataframe\">\n",
       "  <thead>\n",
       "    <tr style=\"text-align: right;\">\n",
       "      <th></th>\n",
       "      <th>retail_and_recreation</th>\n",
       "      <th>grocery_and_pharmacy</th>\n",
       "      <th>parks</th>\n",
       "      <th>transit_stations</th>\n",
       "      <th>workplaces</th>\n",
       "      <th>residential</th>\n",
       "    </tr>\n",
       "  </thead>\n",
       "  <tbody>\n",
       "    <tr>\n",
       "      <th>0</th>\n",
       "      <td>Yemen</td>\n",
       "      <td>Taiwan</td>\n",
       "      <td>Zambia</td>\n",
       "      <td>Yemen</td>\n",
       "      <td>Yemen</td>\n",
       "      <td>Yemen</td>\n",
       "    </tr>\n",
       "    <tr>\n",
       "      <th>1</th>\n",
       "      <td>Taiwan</td>\n",
       "      <td>Yemen</td>\n",
       "      <td>Benin</td>\n",
       "      <td>Cameroon</td>\n",
       "      <td>Mali</td>\n",
       "      <td>Belarus</td>\n",
       "    </tr>\n",
       "    <tr>\n",
       "      <th>2</th>\n",
       "      <td>Benin</td>\n",
       "      <td>Japan</td>\n",
       "      <td>Belarus</td>\n",
       "      <td>Tanzania</td>\n",
       "      <td>Cameroon</td>\n",
       "      <td>Taiwan</td>\n",
       "    </tr>\n",
       "    <tr>\n",
       "      <th>3</th>\n",
       "      <td>Niger</td>\n",
       "      <td>South Korea</td>\n",
       "      <td>Papua New Guinea</td>\n",
       "      <td>Zambia</td>\n",
       "      <td>Qatar</td>\n",
       "      <td>Cambodia</td>\n",
       "    </tr>\n",
       "    <tr>\n",
       "      <th>4</th>\n",
       "      <td>Cameroon</td>\n",
       "      <td>Hong Kong</td>\n",
       "      <td>Burkina Faso</td>\n",
       "      <td>Taiwan</td>\n",
       "      <td>Tajikistan</td>\n",
       "      <td>Cameroon</td>\n",
       "    </tr>\n",
       "    <tr>\n",
       "      <th>5</th>\n",
       "      <td>Zambia</td>\n",
       "      <td>Niger</td>\n",
       "      <td>Finland</td>\n",
       "      <td>South Korea</td>\n",
       "      <td>Bahrain</td>\n",
       "      <td>Haiti</td>\n",
       "    </tr>\n",
       "    <tr>\n",
       "      <th>6</th>\n",
       "      <td>Mali</td>\n",
       "      <td>Benin</td>\n",
       "      <td>Haiti</td>\n",
       "      <td>Belarus</td>\n",
       "      <td>Libya</td>\n",
       "      <td>South Korea</td>\n",
       "    </tr>\n",
       "    <tr>\n",
       "      <th>7</th>\n",
       "      <td>Burkina Faso</td>\n",
       "      <td>Zambia</td>\n",
       "      <td>Mali</td>\n",
       "      <td>Benin</td>\n",
       "      <td>Niger</td>\n",
       "      <td>Tajikistan</td>\n",
       "    </tr>\n",
       "    <tr>\n",
       "      <th>8</th>\n",
       "      <td>Hong Kong</td>\n",
       "      <td>Cameroon</td>\n",
       "      <td>Latvia</td>\n",
       "      <td>Niger</td>\n",
       "      <td>Afghanistan</td>\n",
       "      <td>Afghanistan</td>\n",
       "    </tr>\n",
       "    <tr>\n",
       "      <th>9</th>\n",
       "      <td>Tanzania</td>\n",
       "      <td>Sweden</td>\n",
       "      <td>Tanzania</td>\n",
       "      <td>Côte d'Ivoire</td>\n",
       "      <td>Burkina Faso</td>\n",
       "      <td>Tanzania</td>\n",
       "    </tr>\n",
       "  </tbody>\n",
       "</table>\n",
       "</div>"
      ],
      "text/plain": [
       "  retail_and_recreation grocery_and_pharmacy             parks  \\\n",
       "0                 Yemen               Taiwan            Zambia   \n",
       "1                Taiwan                Yemen             Benin   \n",
       "2                 Benin                Japan           Belarus   \n",
       "3                 Niger          South Korea  Papua New Guinea   \n",
       "4              Cameroon            Hong Kong      Burkina Faso   \n",
       "5                Zambia                Niger           Finland   \n",
       "6                  Mali                Benin             Haiti   \n",
       "7          Burkina Faso               Zambia              Mali   \n",
       "8             Hong Kong             Cameroon            Latvia   \n",
       "9              Tanzania               Sweden          Tanzania   \n",
       "\n",
       "  transit_stations    workplaces  residential  \n",
       "0            Yemen         Yemen        Yemen  \n",
       "1         Cameroon          Mali      Belarus  \n",
       "2         Tanzania      Cameroon       Taiwan  \n",
       "3           Zambia         Qatar     Cambodia  \n",
       "4           Taiwan    Tajikistan     Cameroon  \n",
       "5      South Korea       Bahrain        Haiti  \n",
       "6          Belarus         Libya  South Korea  \n",
       "7            Benin         Niger   Tajikistan  \n",
       "8            Niger   Afghanistan  Afghanistan  \n",
       "9    Côte d'Ivoire  Burkina Faso     Tanzania  "
      ]
     },
     "execution_count": 84,
     "metadata": {},
     "output_type": "execute_result"
    }
   ],
   "source": [
    "# 10 countries with least mobility drop\n",
    "clean_col_name(min_df_mod).apply(get_last_n)"
   ]
  },
  {
   "cell_type": "markdown",
   "metadata": {},
   "source": [
    "#### Below are plots showing 10 greatest and least mobility drops for location type"
   ]
  },
  {
   "cell_type": "code",
   "execution_count": 85,
   "metadata": {
    "scrolled": true
   },
   "outputs": [
    {
     "data": {
      "image/png": "[encoded data removed]",
      "text/plain": [
       "<Figure size 432x288 with 1 Axes>"
      ]
     },
     "metadata": {
      "needs_background": "light"
     },
     "output_type": "display_data"
    },
    {
     "data": {
      "image/png": "[encoded data removed]",
      "text/plain": [
       "<Figure size 432x288 with 1 Axes>"
      ]
     },
     "metadata": {
      "needs_background": "light"
     },
     "output_type": "display_data"
    },
    {
     "data": {
      "text/plain": [
       "country_region\n",
       "Réunion       -98.0\n",
       "Serbia        -97.0\n",
       "The Bahamas   -97.0\n",
       "Italy         -96.0\n",
       "Aruba         -96.0\n",
       "               ... \n",
       "Zambia        -32.0\n",
       "Niger         -30.0\n",
       "Benin         -30.0\n",
       "Taiwan        -24.0\n",
       "Yemen         -21.0\n",
       "Name: retail_and_recreation_percent_change_from_baseline, Length: 132, dtype: float64"
      ]
     },
     "execution_count": 85,
     "metadata": {},
     "output_type": "execute_result"
    }
   ],
   "source": [
    "# retail and reacreation\n",
    "sort_and_plot('retail_and_recreation_percent_change_from_baseline')"
   ]
  },
  {
   "cell_type": "code",
   "execution_count": 86,
   "metadata": {
    "scrolled": true
   },
   "outputs": [
    {
     "data": {
      "image/png": "[encoded data removed]",
      "text/plain": [
       "<Figure size 432x288 with 1 Axes>"
      ]
     },
     "metadata": {
      "needs_background": "light"
     },
     "output_type": "display_data"
    },
    {
     "data": {
      "image/png": "[encoded data removed]",
      "text/plain": [
       "<Figure size 432x288 with 1 Axes>"
      ]
     },
     "metadata": {
      "needs_background": "light"
     },
     "output_type": "display_data"
    },
    {
     "data": {
      "text/plain": [
       "country_region\n",
       "The Bahamas   -98.0\n",
       "Serbia        -97.0\n",
       "Réunion       -96.0\n",
       "Peru          -96.0\n",
       "Aruba         -96.0\n",
       "               ... \n",
       "Hong Kong     -19.0\n",
       "South Korea   -18.0\n",
       "Japan         -15.0\n",
       "Yemen         -11.0\n",
       "Taiwan         -8.0\n",
       "Name: grocery_and_pharmacy_percent_change_from_baseline, Length: 132, dtype: float64"
      ]
     },
     "execution_count": 86,
     "metadata": {},
     "output_type": "execute_result"
    }
   ],
   "source": [
    "# grocery and pharamcy\n",
    "sort_and_plot('grocery_and_pharmacy_percent_change_from_baseline')"
   ]
  },
  {
   "cell_type": "code",
   "execution_count": 87,
   "metadata": {
    "scrolled": true
   },
   "outputs": [
    {
     "data": {
      "image/png": "[encoded data removed]",
      "text/plain": [
       "<Figure size 432x288 with 1 Axes>"
      ]
     },
     "metadata": {
      "needs_background": "light"
     },
     "output_type": "display_data"
    },
    {
     "data": {
      "image/png": "[encoded data removed]",
      "text/plain": [
       "<Figure size 432x288 with 1 Axes>"
      ]
     },
     "metadata": {
      "needs_background": "light"
     },
     "output_type": "display_data"
    },
    {
     "data": {
      "text/plain": [
       "country_region\n",
       "Réunion            -100.0\n",
       "Argentina           -95.0\n",
       "Italy               -91.0\n",
       "Spain               -90.0\n",
       "Peru                -90.0\n",
       "                    ...  \n",
       "Papua New Guinea    -18.0\n",
       "Belarus             -18.0\n",
       "Benin               -13.0\n",
       "Zambia              -12.0\n",
       "Liechtenstein         NaN\n",
       "Name: parks_percent_change_from_baseline, Length: 132, dtype: float64"
      ]
     },
     "execution_count": 87,
     "metadata": {},
     "output_type": "execute_result"
    }
   ],
   "source": [
    "# parks\n",
    "sort_and_plot('parks_percent_change_from_baseline')"
   ]
  },
  {
   "cell_type": "code",
   "execution_count": 88,
   "metadata": {
    "scrolled": true
   },
   "outputs": [
    {
     "data": {
      "image/png": "[encoded data removed]",
      "text/plain": [
       "<Figure size 432x288 with 1 Axes>"
      ]
     },
     "metadata": {
      "needs_background": "light"
     },
     "output_type": "display_data"
    },
    {
     "data": {
      "image/png": "[encoded data removed]",
      "text/plain": [
       "<Figure size 432x288 with 1 Axes>"
      ]
     },
     "metadata": {
      "needs_background": "light"
     },
     "output_type": "display_data"
    },
    {
     "data": {
      "text/plain": [
       "country_region\n",
       "The Bahamas           -100.0\n",
       "Jordan                 -95.0\n",
       "Peru                   -95.0\n",
       "Barbados               -95.0\n",
       "Antigua and Barbuda    -94.0\n",
       "                       ...  \n",
       "Zambia                 -33.0\n",
       "Tanzania               -33.0\n",
       "Cameroon               -30.0\n",
       "Yemen                  -27.0\n",
       "Guinea-Bissau            NaN\n",
       "Name: transit_stations_percent_change_from_baseline, Length: 132, dtype: float64"
      ]
     },
     "execution_count": 88,
     "metadata": {},
     "output_type": "execute_result"
    }
   ],
   "source": [
    "# transit stations\n",
    "sort_and_plot('transit_stations_percent_change_from_baseline')"
   ]
  },
  {
   "cell_type": "code",
   "execution_count": 89,
   "metadata": {
    "scrolled": false
   },
   "outputs": [
    {
     "data": {
      "image/png": "[encoded data removed]",
      "text/plain": [
       "<Figure size 432x288 with 1 Axes>"
      ]
     },
     "metadata": {
      "needs_background": "light"
     },
     "output_type": "display_data"
    },
    {
     "data": {
      "image/png": "[encoded data removed]",
      "text/plain": [
       "<Figure size 432x288 with 1 Axes>"
      ]
     },
     "metadata": {
      "needs_background": "light"
     },
     "output_type": "display_data"
    },
    {
     "data": {
      "text/plain": [
       "country_region\n",
       "Israel                -92.0\n",
       "Luxembourg            -92.0\n",
       "Antigua and Barbuda   -91.0\n",
       "Aruba                 -91.0\n",
       "Mauritius             -91.0\n",
       "                       ... \n",
       "Tajikistan            -40.0\n",
       "Qatar                 -40.0\n",
       "Cameroon              -40.0\n",
       "Mali                  -37.0\n",
       "Yemen                 -19.0\n",
       "Name: workplaces_percent_change_from_baseline, Length: 132, dtype: float64"
      ]
     },
     "execution_count": 89,
     "metadata": {},
     "output_type": "execute_result"
    }
   ],
   "source": [
    "# workplaces\n",
    "sort_and_plot('workplaces_percent_change_from_baseline')"
   ]
  },
  {
   "cell_type": "code",
   "execution_count": 90,
   "metadata": {
    "scrolled": true
   },
   "outputs": [
    {
     "data": {
      "image/png": "[encoded data removed]",
      "text/plain": [
       "<Figure size 432x288 with 1 Axes>"
      ]
     },
     "metadata": {
      "needs_background": "light"
     },
     "output_type": "display_data"
    },
    {
     "data": {
      "image/png": "[encoded data removed]",
      "text/plain": [
       "<Figure size 432x288 with 1 Axes>"
      ]
     },
     "metadata": {
      "needs_background": "light"
     },
     "output_type": "display_data"
    },
    {
     "data": {
      "text/plain": [
       "country_region\n",
       "Yemen             9.0\n",
       "Belarus          15.0\n",
       "Taiwan           16.0\n",
       "Cambodia         17.0\n",
       "Haiti            17.0\n",
       "                 ... \n",
       "Botswana         52.0\n",
       "Singapore        55.0\n",
       "Guinea-Bissau     NaN\n",
       "Liechtenstein     NaN\n",
       "Réunion           NaN\n",
       "Name: residential_percent_change_from_baseline, Length: 132, dtype: float64"
      ]
     },
     "execution_count": 90,
     "metadata": {},
     "output_type": "execute_result"
    }
   ],
   "source": [
    "# for resedential it is different because people will spend more time at home. for that reason max() is used\n",
    "\n",
    "# residential\n",
    "sort_and_plot('residential_percent_change_from_baseline', op='max')"
   ]
  },
  {
   "cell_type": "markdown",
   "metadata": {},
   "source": [
    "#### Results with refinement: a look at continents"
   ]
  },
  {
   "cell_type": "code",
   "execution_count": 91,
   "metadata": {
    "scrolled": true
   },
   "outputs": [
    {
     "data": {
      "image/png": "[encoded data removed]",
      "text/plain": [
       "<Figure size 432x288 with 1 Axes>"
      ]
     },
     "metadata": {
      "needs_background": "light"
     },
     "output_type": "display_data"
    }
   ],
   "source": [
    "'''take average over max mobility drop in every country for each continent and plot result'''\n",
    "# plot continent analysis\n",
    "continent_mean_df=clean_col_name(get_continent_mean(df=min_week_df))\n",
    "continent_mean_df.plot.barh();\n",
    "plt.legend(bbox_to_anchor=(1.1, 1.05));\n",
    "plt.xlabel('percent change from baseline');"
   ]
  },
  {
   "cell_type": "code",
   "execution_count": 92,
   "metadata": {
    "scrolled": true
   },
   "outputs": [
    {
     "data": {
      "image/png": "[encoded data removed]",
      "text/plain": [
       "<Figure size 432x288 with 1 Axes>"
      ]
     },
     "metadata": {
      "needs_background": "light"
     },
     "output_type": "display_data"
    }
   ],
   "source": [
    "# get a look at continents mean date of reaching slowest mobility - each dot is represents a continent' date\n",
    "continent_dates=get_continent_mean_date(df=dates_df_week, continent_col=min_week_df.continent)\n",
    "cols=continent_dates.columns\n",
    "show_timeline(cols=cols, dates=continent_dates, dates_for='continents')"
   ]
  },
  {
   "cell_type": "code",
   "execution_count": 93,
   "metadata": {
    "scrolled": true
   },
   "outputs": [
    {
     "data": {
      "text/html": [
       "<div>\n",
       "<style scoped>\n",
       "    .dataframe tbody tr th:only-of-type {\n",
       "        vertical-align: middle;\n",
       "    }\n",
       "\n",
       "    .dataframe tbody tr th {\n",
       "        vertical-align: top;\n",
       "    }\n",
       "\n",
       "    .dataframe thead th {\n",
       "        text-align: right;\n",
       "    }\n",
       "</style>\n",
       "<table border=\"1\" class=\"dataframe\">\n",
       "  <thead>\n",
       "    <tr style=\"text-align: right;\">\n",
       "      <th></th>\n",
       "      <th>retail_and_recreation</th>\n",
       "      <th>grocery_and_pharmacy</th>\n",
       "      <th>parks</th>\n",
       "      <th>transit_stations</th>\n",
       "      <th>workplaces</th>\n",
       "      <th>residential</th>\n",
       "    </tr>\n",
       "  </thead>\n",
       "  <tbody>\n",
       "    <tr>\n",
       "      <th>AF</th>\n",
       "      <td>2020-04-14</td>\n",
       "      <td>2020-04-13</td>\n",
       "      <td>2020-04-16</td>\n",
       "      <td>2020-04-15</td>\n",
       "      <td>2020-04-09</td>\n",
       "      <td>2020-04-13</td>\n",
       "    </tr>\n",
       "    <tr>\n",
       "      <th>AS</th>\n",
       "      <td>2020-04-13</td>\n",
       "      <td>2020-04-07</td>\n",
       "      <td>2020-04-12</td>\n",
       "      <td>2020-04-10</td>\n",
       "      <td>2020-04-11</td>\n",
       "      <td>2020-04-12</td>\n",
       "    </tr>\n",
       "    <tr>\n",
       "      <th>EU</th>\n",
       "      <td>2020-04-02</td>\n",
       "      <td>2020-04-07</td>\n",
       "      <td>2020-03-25</td>\n",
       "      <td>2020-04-02</td>\n",
       "      <td>2020-04-10</td>\n",
       "      <td>2020-04-01</td>\n",
       "    </tr>\n",
       "    <tr>\n",
       "      <th>NA</th>\n",
       "      <td>2020-04-08</td>\n",
       "      <td>2020-04-12</td>\n",
       "      <td>2020-04-05</td>\n",
       "      <td>2020-04-08</td>\n",
       "      <td>2020-04-06</td>\n",
       "      <td>2020-04-07</td>\n",
       "    </tr>\n",
       "    <tr>\n",
       "      <th>OC</th>\n",
       "      <td>2020-04-07</td>\n",
       "      <td>2020-04-05</td>\n",
       "      <td>2020-04-15</td>\n",
       "      <td>2020-04-07</td>\n",
       "      <td>2020-04-07</td>\n",
       "      <td>2020-04-08</td>\n",
       "    </tr>\n",
       "    <tr>\n",
       "      <th>SA</th>\n",
       "      <td>2020-03-30</td>\n",
       "      <td>2020-04-11</td>\n",
       "      <td>2020-04-04</td>\n",
       "      <td>2020-04-02</td>\n",
       "      <td>2020-04-02</td>\n",
       "      <td>2020-03-31</td>\n",
       "    </tr>\n",
       "  </tbody>\n",
       "</table>\n",
       "</div>"
      ],
      "text/plain": [
       "   retail_and_recreation grocery_and_pharmacy       parks transit_stations  \\\n",
       "AF            2020-04-14           2020-04-13  2020-04-16       2020-04-15   \n",
       "AS            2020-04-13           2020-04-07  2020-04-12       2020-04-10   \n",
       "EU            2020-04-02           2020-04-07  2020-03-25       2020-04-02   \n",
       "NA            2020-04-08           2020-04-12  2020-04-05       2020-04-08   \n",
       "OC            2020-04-07           2020-04-05  2020-04-15       2020-04-07   \n",
       "SA            2020-03-30           2020-04-11  2020-04-04       2020-04-02   \n",
       "\n",
       "    workplaces residential  \n",
       "AF  2020-04-09  2020-04-13  \n",
       "AS  2020-04-11  2020-04-12  \n",
       "EU  2020-04-10  2020-04-01  \n",
       "NA  2020-04-06  2020-04-07  \n",
       "OC  2020-04-07  2020-04-08  \n",
       "SA  2020-04-02  2020-03-31  "
      ]
     },
     "execution_count": 93,
     "metadata": {},
     "output_type": "execute_result"
    }
   ],
   "source": [
    "# a look at the actual data\n",
    "'''Below is the mean date at which a country has a week of min mobility for each continent'''\n",
    "clean_col_name(continent_dates)"
   ]
  },
  {
   "cell_type": "markdown",
   "metadata": {},
   "source": [
    "#### Results with refinement: a look at countries"
   ]
  },
  {
   "cell_type": "code",
   "execution_count": 94,
   "metadata": {
    "scrolled": true
   },
   "outputs": [
    {
     "data": {
      "image/png": "[encoded data removed]",
      "text/plain": [
       "<Figure size 432x288 with 1 Axes>"
      ]
     },
     "metadata": {
      "needs_background": "light"
     },
     "output_type": "display_data"
    },
    {
     "data": {
      "text/plain": [
       "'The dots in this case represent the week at which a country reached min mobility'"
      ]
     },
     "execution_count": 94,
     "metadata": {},
     "output_type": "execute_result"
    }
   ],
   "source": [
    "# dates at which counties experienced greatest mobility slow-down \n",
    "# each dot represents a country's date of max drop\n",
    "show_timeline(cols=cols, dates=dates_df_week.dropna(), dates_for='countries')\n",
    "'''The dots in this case represent the week at which a country reached min mobility'''"
   ]
  },
  {
   "cell_type": "code",
   "execution_count": 95,
   "metadata": {},
   "outputs": [],
   "source": [
    "# get short col version of dates\n",
    "dates_df_week_clean=clean_col_name(dates_df_week)"
   ]
  },
  {
   "cell_type": "code",
   "execution_count": 96,
   "metadata": {
    "scrolled": false
   },
   "outputs": [
    {
     "data": {
      "text/html": [
       "<div>\n",
       "<style scoped>\n",
       "    .dataframe tbody tr th:only-of-type {\n",
       "        vertical-align: middle;\n",
       "    }\n",
       "\n",
       "    .dataframe tbody tr th {\n",
       "        vertical-align: top;\n",
       "    }\n",
       "\n",
       "    .dataframe thead th {\n",
       "        text-align: right;\n",
       "    }\n",
       "</style>\n",
       "<table border=\"1\" class=\"dataframe\">\n",
       "  <thead>\n",
       "    <tr style=\"text-align: right;\">\n",
       "      <th></th>\n",
       "      <th>retail_and_recreation</th>\n",
       "      <th>grocery_and_pharmacy</th>\n",
       "      <th>parks</th>\n",
       "      <th>transit_stations</th>\n",
       "      <th>workplaces</th>\n",
       "      <th>residential</th>\n",
       "    </tr>\n",
       "  </thead>\n",
       "  <tbody>\n",
       "    <tr>\n",
       "      <th>0</th>\n",
       "      <td>Mongolia</td>\n",
       "      <td>Hong Kong</td>\n",
       "      <td>Denmark</td>\n",
       "      <td>Mongolia</td>\n",
       "      <td>Mongolia</td>\n",
       "      <td>Mongolia</td>\n",
       "    </tr>\n",
       "    <tr>\n",
       "      <th>1</th>\n",
       "      <td>South Korea</td>\n",
       "      <td>Taiwan</td>\n",
       "      <td>Finland</td>\n",
       "      <td>South Korea</td>\n",
       "      <td>Argentina</td>\n",
       "      <td>South Korea</td>\n",
       "    </tr>\n",
       "    <tr>\n",
       "      <th>2</th>\n",
       "      <td>Norway</td>\n",
       "      <td>Mongolia</td>\n",
       "      <td>Sweden</td>\n",
       "      <td>Argentina</td>\n",
       "      <td>Austria</td>\n",
       "      <td>Argentina</td>\n",
       "    </tr>\n",
       "    <tr>\n",
       "      <th>3</th>\n",
       "      <td>Argentina</td>\n",
       "      <td>South Korea</td>\n",
       "      <td>Mongolia</td>\n",
       "      <td>Austria</td>\n",
       "      <td>Bosnia and Herzegovina</td>\n",
       "      <td>Austria</td>\n",
       "    </tr>\n",
       "    <tr>\n",
       "      <th>4</th>\n",
       "      <td>Austria</td>\n",
       "      <td>Norway</td>\n",
       "      <td>South Korea</td>\n",
       "      <td>Bosnia and Herzegovina</td>\n",
       "      <td>Brazil</td>\n",
       "      <td>Bosnia and Herzegovina</td>\n",
       "    </tr>\n",
       "    <tr>\n",
       "      <th>5</th>\n",
       "      <td>Bosnia and Herzegovina</td>\n",
       "      <td>Argentina</td>\n",
       "      <td>Norway</td>\n",
       "      <td>Brazil</td>\n",
       "      <td>France</td>\n",
       "      <td>Brazil</td>\n",
       "    </tr>\n",
       "    <tr>\n",
       "      <th>6</th>\n",
       "      <td>Brazil</td>\n",
       "      <td>Austria</td>\n",
       "      <td>Austria</td>\n",
       "      <td>Bulgaria</td>\n",
       "      <td>Guatemala</td>\n",
       "      <td>Bulgaria</td>\n",
       "    </tr>\n",
       "    <tr>\n",
       "      <th>7</th>\n",
       "      <td>Bulgaria</td>\n",
       "      <td>Brazil</td>\n",
       "      <td>Bosnia and Herzegovina</td>\n",
       "      <td>Czechia</td>\n",
       "      <td>Iraq</td>\n",
       "      <td>Croatia</td>\n",
       "    </tr>\n",
       "    <tr>\n",
       "      <th>8</th>\n",
       "      <td>Colombia</td>\n",
       "      <td>Bulgaria</td>\n",
       "      <td>Brazil</td>\n",
       "      <td>Denmark</td>\n",
       "      <td>Italy</td>\n",
       "      <td>Czechia</td>\n",
       "    </tr>\n",
       "    <tr>\n",
       "      <th>9</th>\n",
       "      <td>Croatia</td>\n",
       "      <td>Czechia</td>\n",
       "      <td>Bulgaria</td>\n",
       "      <td>Ecuador</td>\n",
       "      <td>Jordan</td>\n",
       "      <td>Denmark</td>\n",
       "    </tr>\n",
       "  </tbody>\n",
       "</table>\n",
       "</div>"
      ],
      "text/plain": [
       "    retail_and_recreation grocery_and_pharmacy                   parks  \\\n",
       "0                Mongolia            Hong Kong                 Denmark   \n",
       "1             South Korea               Taiwan                 Finland   \n",
       "2                  Norway             Mongolia                  Sweden   \n",
       "3               Argentina          South Korea                Mongolia   \n",
       "4                 Austria               Norway             South Korea   \n",
       "5  Bosnia and Herzegovina            Argentina                  Norway   \n",
       "6                  Brazil              Austria                 Austria   \n",
       "7                Bulgaria               Brazil  Bosnia and Herzegovina   \n",
       "8                Colombia             Bulgaria                  Brazil   \n",
       "9                 Croatia              Czechia                Bulgaria   \n",
       "\n",
       "         transit_stations              workplaces             residential  \n",
       "0                Mongolia                Mongolia                Mongolia  \n",
       "1             South Korea               Argentina             South Korea  \n",
       "2               Argentina                 Austria               Argentina  \n",
       "3                 Austria  Bosnia and Herzegovina                 Austria  \n",
       "4  Bosnia and Herzegovina                  Brazil  Bosnia and Herzegovina  \n",
       "5                  Brazil                  France                  Brazil  \n",
       "6                Bulgaria               Guatemala                Bulgaria  \n",
       "7                 Czechia                    Iraq                 Croatia  \n",
       "8                 Denmark                   Italy                 Czechia  \n",
       "9                 Ecuador                  Jordan                 Denmark  "
      ]
     },
     "execution_count": 96,
     "metadata": {},
     "output_type": "execute_result"
    }
   ],
   "source": [
    "# countries with earliest mobility slow-down (starts with earliest country)\n",
    "dates_df_week_clean.apply(earliest_countries, axis=0)"
   ]
  },
  {
   "cell_type": "code",
   "execution_count": 97,
   "metadata": {
    "scrolled": false
   },
   "outputs": [
    {
     "data": {
      "text/html": [
       "<div>\n",
       "<style scoped>\n",
       "    .dataframe tbody tr th:only-of-type {\n",
       "        vertical-align: middle;\n",
       "    }\n",
       "\n",
       "    .dataframe tbody tr th {\n",
       "        vertical-align: top;\n",
       "    }\n",
       "\n",
       "    .dataframe thead th {\n",
       "        text-align: right;\n",
       "    }\n",
       "</style>\n",
       "<table border=\"1\" class=\"dataframe\">\n",
       "  <thead>\n",
       "    <tr style=\"text-align: right;\">\n",
       "      <th></th>\n",
       "      <th>retail_and_recreation</th>\n",
       "      <th>grocery_and_pharmacy</th>\n",
       "      <th>parks</th>\n",
       "      <th>transit_stations</th>\n",
       "      <th>workplaces</th>\n",
       "      <th>residential</th>\n",
       "    </tr>\n",
       "  </thead>\n",
       "  <tbody>\n",
       "    <tr>\n",
       "      <th>0</th>\n",
       "      <td>Philippines</td>\n",
       "      <td>Panama</td>\n",
       "      <td>Afghanistan</td>\n",
       "      <td>Japan</td>\n",
       "      <td>Bahrain</td>\n",
       "      <td>Bahrain</td>\n",
       "    </tr>\n",
       "    <tr>\n",
       "      <th>1</th>\n",
       "      <td>Tajikistan</td>\n",
       "      <td>Tajikistan</td>\n",
       "      <td>Papua New Guinea</td>\n",
       "      <td>Niger</td>\n",
       "      <td>Japan</td>\n",
       "      <td>Japan</td>\n",
       "    </tr>\n",
       "    <tr>\n",
       "      <th>2</th>\n",
       "      <td>Afghanistan</td>\n",
       "      <td>Benin</td>\n",
       "      <td>Philippines</td>\n",
       "      <td>Tajikistan</td>\n",
       "      <td>Tajikistan</td>\n",
       "      <td>Tajikistan</td>\n",
       "    </tr>\n",
       "    <tr>\n",
       "      <th>3</th>\n",
       "      <td>Bahrain</td>\n",
       "      <td>Bolivia</td>\n",
       "      <td>Tajikistan</td>\n",
       "      <td>Belarus</td>\n",
       "      <td>Yemen</td>\n",
       "      <td>Yemen</td>\n",
       "    </tr>\n",
       "    <tr>\n",
       "      <th>4</th>\n",
       "      <td>Indonesia</td>\n",
       "      <td>Chile</td>\n",
       "      <td>Bangladesh</td>\n",
       "      <td>Benin</td>\n",
       "      <td>Belarus</td>\n",
       "      <td>Afghanistan</td>\n",
       "    </tr>\n",
       "    <tr>\n",
       "      <th>5</th>\n",
       "      <td>Kuwait</td>\n",
       "      <td>Indonesia</td>\n",
       "      <td>Benin</td>\n",
       "      <td>Indonesia</td>\n",
       "      <td>Indonesia</td>\n",
       "      <td>Antigua and Barbuda</td>\n",
       "    </tr>\n",
       "    <tr>\n",
       "      <th>6</th>\n",
       "      <td>Mali</td>\n",
       "      <td>Italy</td>\n",
       "      <td>Indonesia</td>\n",
       "      <td>Kuwait</td>\n",
       "      <td>Kuwait</td>\n",
       "      <td>Indonesia</td>\n",
       "    </tr>\n",
       "    <tr>\n",
       "      <th>7</th>\n",
       "      <td>Niger</td>\n",
       "      <td>Kuwait</td>\n",
       "      <td>Kuwait</td>\n",
       "      <td>Mali</td>\n",
       "      <td>Qatar</td>\n",
       "      <td>Kuwait</td>\n",
       "    </tr>\n",
       "    <tr>\n",
       "      <th>8</th>\n",
       "      <td>Nigeria</td>\n",
       "      <td>Luxembourg</td>\n",
       "      <td>Mali</td>\n",
       "      <td>Mexico</td>\n",
       "      <td>Senegal</td>\n",
       "      <td>Mali</td>\n",
       "    </tr>\n",
       "    <tr>\n",
       "      <th>9</th>\n",
       "      <td>Qatar</td>\n",
       "      <td>Mali</td>\n",
       "      <td>Mexico</td>\n",
       "      <td>Senegal</td>\n",
       "      <td>Singapore</td>\n",
       "      <td>Niger</td>\n",
       "    </tr>\n",
       "  </tbody>\n",
       "</table>\n",
       "</div>"
      ],
      "text/plain": [
       "  retail_and_recreation grocery_and_pharmacy             parks  \\\n",
       "0           Philippines               Panama       Afghanistan   \n",
       "1            Tajikistan           Tajikistan  Papua New Guinea   \n",
       "2           Afghanistan                Benin       Philippines   \n",
       "3               Bahrain              Bolivia        Tajikistan   \n",
       "4             Indonesia                Chile        Bangladesh   \n",
       "5                Kuwait            Indonesia             Benin   \n",
       "6                  Mali                Italy         Indonesia   \n",
       "7                 Niger               Kuwait            Kuwait   \n",
       "8               Nigeria           Luxembourg              Mali   \n",
       "9                 Qatar                 Mali            Mexico   \n",
       "\n",
       "  transit_stations  workplaces          residential  \n",
       "0            Japan     Bahrain              Bahrain  \n",
       "1            Niger       Japan                Japan  \n",
       "2       Tajikistan  Tajikistan           Tajikistan  \n",
       "3          Belarus       Yemen                Yemen  \n",
       "4            Benin     Belarus          Afghanistan  \n",
       "5        Indonesia   Indonesia  Antigua and Barbuda  \n",
       "6           Kuwait      Kuwait            Indonesia  \n",
       "7             Mali       Qatar               Kuwait  \n",
       "8           Mexico     Senegal                 Mali  \n",
       "9          Senegal   Singapore                Niger  "
      ]
     },
     "execution_count": 97,
     "metadata": {},
     "output_type": "execute_result"
    }
   ],
   "source": [
    "# countries with latest mobility slow-down (starts with latest country)\n",
    "dates_df_week_clean.apply(latest_countries, axis=0)"
   ]
  },
  {
   "cell_type": "code",
   "execution_count": 98,
   "metadata": {},
   "outputs": [
    {
     "data": {
      "text/plain": [
       "retail_and_recreation   2020-02-25\n",
       "grocery_and_pharmacy    2020-02-25\n",
       "parks                   2020-02-25\n",
       "transit_stations        2020-02-25\n",
       "workplaces              2020-02-25\n",
       "residential             2020-02-25\n",
       "Name: Mongolia, dtype: datetime64[ns]"
      ]
     },
     "execution_count": 98,
     "metadata": {},
     "output_type": "execute_result"
    }
   ],
   "source": [
    "# Mongolia is earliest to reduce time spent in public locations and increase stay at home \n",
    "dates_df_week_clean.loc['Mongolia']"
   ]
  },
  {
   "cell_type": "code",
   "execution_count": 99,
   "metadata": {
    "scrolled": true
   },
   "outputs": [
    {
     "data": {
      "text/plain": [
       "retail_and_recreation   2020-03-03\n",
       "grocery_and_pharmacy    2020-02-25\n",
       "parks                   2020-02-25\n",
       "transit_stations        2020-03-03\n",
       "workplaces              2020-04-28\n",
       "residential             2020-03-03\n",
       "Name: South Korea, dtype: datetime64[ns]"
      ]
     },
     "execution_count": 99,
     "metadata": {},
     "output_type": "execute_result"
    }
   ],
   "source": [
    "# South Korea had an early response with public places but late for workplaces\n",
    "dates_df_week_clean.loc['South Korea']"
   ]
  },
  {
   "cell_type": "markdown",
   "metadata": {},
   "source": [
    "#### Take a look at mobility drops by country\n",
    "##### For simplification we'll look at 10 countries with greatest drop and 10 countries with least drop"
   ]
  },
  {
   "cell_type": "code",
   "execution_count": 100,
   "metadata": {
    "scrolled": true
   },
   "outputs": [
    {
     "data": {
      "text/html": [
       "<div>\n",
       "<style scoped>\n",
       "    .dataframe tbody tr th:only-of-type {\n",
       "        vertical-align: middle;\n",
       "    }\n",
       "\n",
       "    .dataframe tbody tr th {\n",
       "        vertical-align: top;\n",
       "    }\n",
       "\n",
       "    .dataframe thead th {\n",
       "        text-align: right;\n",
       "    }\n",
       "</style>\n",
       "<table border=\"1\" class=\"dataframe\">\n",
       "  <thead>\n",
       "    <tr style=\"text-align: right;\">\n",
       "      <th></th>\n",
       "      <th>retail_and_recreation</th>\n",
       "      <th>grocery_and_pharmacy</th>\n",
       "      <th>parks</th>\n",
       "      <th>transit_stations</th>\n",
       "      <th>workplaces</th>\n",
       "      <th>residential</th>\n",
       "    </tr>\n",
       "  </thead>\n",
       "  <tbody>\n",
       "    <tr>\n",
       "      <th>0</th>\n",
       "      <td>Réunion</td>\n",
       "      <td>Barbados</td>\n",
       "      <td>Réunion</td>\n",
       "      <td>Jordan</td>\n",
       "      <td>Barbados</td>\n",
       "      <td>Singapore</td>\n",
       "    </tr>\n",
       "    <tr>\n",
       "      <th>1</th>\n",
       "      <td>Spain</td>\n",
       "      <td>Réunion</td>\n",
       "      <td>Argentina</td>\n",
       "      <td>The Bahamas</td>\n",
       "      <td>Mauritius</td>\n",
       "      <td>Zimbabwe</td>\n",
       "    </tr>\n",
       "    <tr>\n",
       "      <th>2</th>\n",
       "      <td>New Zealand</td>\n",
       "      <td>Sri Lanka</td>\n",
       "      <td>Mauritius</td>\n",
       "      <td>Mauritius</td>\n",
       "      <td>Peru</td>\n",
       "      <td>Botswana</td>\n",
       "    </tr>\n",
       "    <tr>\n",
       "      <th>3</th>\n",
       "      <td>Mauritius</td>\n",
       "      <td>Mauritius</td>\n",
       "      <td>Italy</td>\n",
       "      <td>Peru</td>\n",
       "      <td>Bolivia</td>\n",
       "      <td>Panama</td>\n",
       "    </tr>\n",
       "    <tr>\n",
       "      <th>4</th>\n",
       "      <td>Italy</td>\n",
       "      <td>Bolivia</td>\n",
       "      <td>Spain</td>\n",
       "      <td>Réunion</td>\n",
       "      <td>Antigua and Barbuda</td>\n",
       "      <td>Peru</td>\n",
       "    </tr>\n",
       "    <tr>\n",
       "      <th>5</th>\n",
       "      <td>France</td>\n",
       "      <td>Peru</td>\n",
       "      <td>Bolivia</td>\n",
       "      <td>Barbados</td>\n",
       "      <td>Ecuador</td>\n",
       "      <td>Sri Lanka</td>\n",
       "    </tr>\n",
       "    <tr>\n",
       "      <th>6</th>\n",
       "      <td>Barbados</td>\n",
       "      <td>Nepal</td>\n",
       "      <td>Barbados</td>\n",
       "      <td>Spain</td>\n",
       "      <td>Panama</td>\n",
       "      <td>Bolivia</td>\n",
       "    </tr>\n",
       "    <tr>\n",
       "      <th>7</th>\n",
       "      <td>Bolivia</td>\n",
       "      <td>Honduras</td>\n",
       "      <td>Peru</td>\n",
       "      <td>New Zealand</td>\n",
       "      <td>Spain</td>\n",
       "      <td>Ecuador</td>\n",
       "    </tr>\n",
       "    <tr>\n",
       "      <th>8</th>\n",
       "      <td>Peru</td>\n",
       "      <td>Ecuador</td>\n",
       "      <td>Ecuador</td>\n",
       "      <td>Bolivia</td>\n",
       "      <td>The Bahamas</td>\n",
       "      <td>Malaysia</td>\n",
       "    </tr>\n",
       "    <tr>\n",
       "      <th>9</th>\n",
       "      <td>India</td>\n",
       "      <td>Georgia</td>\n",
       "      <td>New Zealand</td>\n",
       "      <td>Cape Verde</td>\n",
       "      <td>Jordan</td>\n",
       "      <td>Barbados</td>\n",
       "    </tr>\n",
       "  </tbody>\n",
       "</table>\n",
       "</div>"
      ],
      "text/plain": [
       "  retail_and_recreation grocery_and_pharmacy        parks transit_stations  \\\n",
       "0               Réunion             Barbados      Réunion           Jordan   \n",
       "1                 Spain              Réunion    Argentina      The Bahamas   \n",
       "2           New Zealand            Sri Lanka    Mauritius        Mauritius   \n",
       "3             Mauritius            Mauritius        Italy             Peru   \n",
       "4                 Italy              Bolivia        Spain          Réunion   \n",
       "5                France                 Peru      Bolivia         Barbados   \n",
       "6              Barbados                Nepal     Barbados            Spain   \n",
       "7               Bolivia             Honduras         Peru      New Zealand   \n",
       "8                  Peru              Ecuador      Ecuador          Bolivia   \n",
       "9                 India              Georgia  New Zealand       Cape Verde   \n",
       "\n",
       "            workplaces residential  \n",
       "0             Barbados   Singapore  \n",
       "1            Mauritius    Zimbabwe  \n",
       "2                 Peru    Botswana  \n",
       "3              Bolivia      Panama  \n",
       "4  Antigua and Barbuda        Peru  \n",
       "5              Ecuador   Sri Lanka  \n",
       "6               Panama     Bolivia  \n",
       "7                Spain     Ecuador  \n",
       "8          The Bahamas    Malaysia  \n",
       "9               Jordan    Barbados  "
      ]
     },
     "execution_count": 100,
     "metadata": {},
     "output_type": "execute_result"
    }
   ],
   "source": [
    "# modify min_week_df to have only baseline cols, and to have residential be consistent with other lambda functions\n",
    "min_week_df_mod= min_week_df.copy()\n",
    "\n",
    "# flip sign of values\n",
    "min_week_df_mod.residential_percent_change_from_baseline=-min_week_df.residential_percent_change_from_baseline\n",
    "\n",
    "# select columns of interest\n",
    "min_week_df_mod= min_week_df_mod[min_week_df_mod.columns[3:]]\n",
    "\n",
    "# 10 countries with greatest mobility drop\n",
    "clean_col_name(min_week_df_mod).apply(get_first_n)"
   ]
  },
  {
   "cell_type": "code",
   "execution_count": 101,
   "metadata": {
    "scrolled": false
   },
   "outputs": [
    {
     "data": {
      "text/html": [
       "<div>\n",
       "<style scoped>\n",
       "    .dataframe tbody tr th:only-of-type {\n",
       "        vertical-align: middle;\n",
       "    }\n",
       "\n",
       "    .dataframe tbody tr th {\n",
       "        vertical-align: top;\n",
       "    }\n",
       "\n",
       "    .dataframe thead th {\n",
       "        text-align: right;\n",
       "    }\n",
       "</style>\n",
       "<table border=\"1\" class=\"dataframe\">\n",
       "  <thead>\n",
       "    <tr style=\"text-align: right;\">\n",
       "      <th></th>\n",
       "      <th>retail_and_recreation</th>\n",
       "      <th>grocery_and_pharmacy</th>\n",
       "      <th>parks</th>\n",
       "      <th>transit_stations</th>\n",
       "      <th>workplaces</th>\n",
       "      <th>residential</th>\n",
       "    </tr>\n",
       "  </thead>\n",
       "  <tbody>\n",
       "    <tr>\n",
       "      <th>0</th>\n",
       "      <td>Yemen</td>\n",
       "      <td>Taiwan</td>\n",
       "      <td>Finland</td>\n",
       "      <td>Yemen</td>\n",
       "      <td>Papua New Guinea</td>\n",
       "      <td>Yemen</td>\n",
       "    </tr>\n",
       "    <tr>\n",
       "      <th>1</th>\n",
       "      <td>Taiwan</td>\n",
       "      <td>Japan</td>\n",
       "      <td>Sweden</td>\n",
       "      <td>Taiwan</td>\n",
       "      <td>Yemen</td>\n",
       "      <td>Taiwan</td>\n",
       "    </tr>\n",
       "    <tr>\n",
       "      <th>2</th>\n",
       "      <td>Benin</td>\n",
       "      <td>Yemen</td>\n",
       "      <td>Netherlands</td>\n",
       "      <td>Tanzania</td>\n",
       "      <td>Taiwan</td>\n",
       "      <td>Belarus</td>\n",
       "    </tr>\n",
       "    <tr>\n",
       "      <th>3</th>\n",
       "      <td>Zambia</td>\n",
       "      <td>Hong Kong</td>\n",
       "      <td>Norway</td>\n",
       "      <td>Cameroon</td>\n",
       "      <td>Mali</td>\n",
       "      <td>South Korea</td>\n",
       "    </tr>\n",
       "    <tr>\n",
       "      <th>4</th>\n",
       "      <td>Papua New Guinea</td>\n",
       "      <td>Belarus</td>\n",
       "      <td>Belarus</td>\n",
       "      <td>South Korea</td>\n",
       "      <td>Benin</td>\n",
       "      <td>Haiti</td>\n",
       "    </tr>\n",
       "    <tr>\n",
       "      <th>5</th>\n",
       "      <td>Belarus</td>\n",
       "      <td>South Korea</td>\n",
       "      <td>Denmark</td>\n",
       "      <td>Zambia</td>\n",
       "      <td>South Korea</td>\n",
       "      <td>Sweden</td>\n",
       "    </tr>\n",
       "    <tr>\n",
       "      <th>6</th>\n",
       "      <td>Niger</td>\n",
       "      <td>Sweden</td>\n",
       "      <td>Lithuania</td>\n",
       "      <td>Benin</td>\n",
       "      <td>Cameroon</td>\n",
       "      <td>Benin</td>\n",
       "    </tr>\n",
       "    <tr>\n",
       "      <th>7</th>\n",
       "      <td>Sweden</td>\n",
       "      <td>Benin</td>\n",
       "      <td>Germany</td>\n",
       "      <td>Belarus</td>\n",
       "      <td>Burkina Faso</td>\n",
       "      <td>Cameroon</td>\n",
       "    </tr>\n",
       "    <tr>\n",
       "      <th>8</th>\n",
       "      <td>Cameroon</td>\n",
       "      <td>Australia</td>\n",
       "      <td>Latvia</td>\n",
       "      <td>Mozambique</td>\n",
       "      <td>Niger</td>\n",
       "      <td>Tanzania</td>\n",
       "    </tr>\n",
       "    <tr>\n",
       "      <th>9</th>\n",
       "      <td>Mali</td>\n",
       "      <td>Papua New Guinea</td>\n",
       "      <td>Estonia</td>\n",
       "      <td>Côte d'Ivoire</td>\n",
       "      <td>Zambia</td>\n",
       "      <td>Papua New Guinea</td>\n",
       "    </tr>\n",
       "  </tbody>\n",
       "</table>\n",
       "</div>"
      ],
      "text/plain": [
       "  retail_and_recreation grocery_and_pharmacy        parks transit_stations  \\\n",
       "0                 Yemen               Taiwan      Finland            Yemen   \n",
       "1                Taiwan                Japan       Sweden           Taiwan   \n",
       "2                 Benin                Yemen  Netherlands         Tanzania   \n",
       "3                Zambia            Hong Kong       Norway         Cameroon   \n",
       "4      Papua New Guinea              Belarus      Belarus      South Korea   \n",
       "5               Belarus          South Korea      Denmark           Zambia   \n",
       "6                 Niger               Sweden    Lithuania            Benin   \n",
       "7                Sweden                Benin      Germany          Belarus   \n",
       "8              Cameroon            Australia       Latvia       Mozambique   \n",
       "9                  Mali     Papua New Guinea      Estonia    Côte d'Ivoire   \n",
       "\n",
       "         workplaces       residential  \n",
       "0  Papua New Guinea             Yemen  \n",
       "1             Yemen            Taiwan  \n",
       "2            Taiwan           Belarus  \n",
       "3              Mali       South Korea  \n",
       "4             Benin             Haiti  \n",
       "5       South Korea            Sweden  \n",
       "6          Cameroon             Benin  \n",
       "7      Burkina Faso          Cameroon  \n",
       "8             Niger          Tanzania  \n",
       "9            Zambia  Papua New Guinea  "
      ]
     },
     "execution_count": 101,
     "metadata": {},
     "output_type": "execute_result"
    }
   ],
   "source": [
    "# 10 countries with least mobility drop\n",
    "clean_col_name(min_week_df_mod).apply(get_last_n)"
   ]
  },
  {
   "cell_type": "markdown",
   "metadata": {},
   "source": [
    "#### Below are plots showing 10 greatest and least mobility drops for location type"
   ]
  },
  {
   "cell_type": "code",
   "execution_count": 102,
   "metadata": {
    "scrolled": true
   },
   "outputs": [
    {
     "data": {
      "image/png": "[encoded data removed]",
      "text/plain": [
       "<Figure size 432x288 with 1 Axes>"
      ]
     },
     "metadata": {
      "needs_background": "light"
     },
     "output_type": "display_data"
    },
    {
     "data": {
      "image/png": "[encoded data removed]",
      "text/plain": [
       "<Figure size 432x288 with 1 Axes>"
      ]
     },
     "metadata": {
      "needs_background": "light"
     },
     "output_type": "display_data"
    },
    {
     "data": {
      "text/plain": [
       "country_region\n",
       "Réunion            -92.857143\n",
       "Spain              -91.428571\n",
       "New Zealand        -89.571429\n",
       "Mauritius          -89.000000\n",
       "Italy              -88.142857\n",
       "                      ...    \n",
       "Papua New Guinea   -23.571429\n",
       "Zambia             -23.142857\n",
       "Benin              -21.428571\n",
       "Taiwan             -16.857143\n",
       "Yemen              -13.571429\n",
       "Name: retail_and_recreation_percent_change_from_baseline, Length: 132, dtype: float64"
      ]
     },
     "execution_count": 102,
     "metadata": {},
     "output_type": "execute_result"
    }
   ],
   "source": [
    "# retail and reacreation\n",
    "sort_and_plot('retail_and_recreation_percent_change_from_baseline', df=min_week_df)"
   ]
  },
  {
   "cell_type": "code",
   "execution_count": 103,
   "metadata": {
    "scrolled": true
   },
   "outputs": [
    {
     "data": {
      "image/png": "[encoded data removed]",
      "text/plain": [
       "<Figure size 432x288 with 1 Axes>"
      ]
     },
     "metadata": {
      "needs_background": "light"
     },
     "output_type": "display_data"
    },
    {
     "data": {
      "image/png": "[encoded data removed]",
      "text/plain": [
       "<Figure size 432x288 with 1 Axes>"
      ]
     },
     "metadata": {
      "needs_background": "light"
     },
     "output_type": "display_data"
    },
    {
     "data": {
      "text/plain": [
       "country_region\n",
       "Barbados    -83.571429\n",
       "Réunion     -81.857143\n",
       "Sri Lanka   -80.285714\n",
       "Mauritius   -79.142857\n",
       "Bolivia     -77.714286\n",
       "               ...    \n",
       "Belarus      -8.142857\n",
       "Hong Kong    -6.857143\n",
       "Yemen        -5.857143\n",
       "Japan        -4.571429\n",
       "Taiwan       -3.714286\n",
       "Name: grocery_and_pharmacy_percent_change_from_baseline, Length: 132, dtype: float64"
      ]
     },
     "execution_count": 103,
     "metadata": {},
     "output_type": "execute_result"
    }
   ],
   "source": [
    "# grocery and pharamcy\n",
    "sort_and_plot('grocery_and_pharmacy_percent_change_from_baseline', df=min_week_df)"
   ]
  },
  {
   "cell_type": "code",
   "execution_count": 104,
   "metadata": {
    "scrolled": false
   },
   "outputs": [
    {
     "data": {
      "image/png": "[encoded data removed]",
      "text/plain": [
       "<Figure size 432x288 with 1 Axes>"
      ]
     },
     "metadata": {
      "needs_background": "light"
     },
     "output_type": "display_data"
    },
    {
     "data": {
      "image/png": "[encoded data removed]",
      "text/plain": [
       "<Figure size 432x288 with 1 Axes>"
      ]
     },
     "metadata": {
      "needs_background": "light"
     },
     "output_type": "display_data"
    },
    {
     "data": {
      "text/plain": [
       "country_region\n",
       "Réunion         -96.500000\n",
       "Argentina       -92.571429\n",
       "Mauritius       -84.857143\n",
       "Italy           -83.571429\n",
       "Spain           -83.142857\n",
       "                   ...    \n",
       "Norway            1.571429\n",
       "Netherlands       2.428571\n",
       "Sweden            4.285714\n",
       "Finland           8.714286\n",
       "Liechtenstein          NaN\n",
       "Name: parks_percent_change_from_baseline, Length: 132, dtype: float64"
      ]
     },
     "execution_count": 104,
     "metadata": {},
     "output_type": "execute_result"
    }
   ],
   "source": [
    "# parks\n",
    "sort_and_plot('parks_percent_change_from_baseline', df=min_week_df)"
   ]
  },
  {
   "cell_type": "code",
   "execution_count": 105,
   "metadata": {
    "scrolled": true
   },
   "outputs": [
    {
     "data": {
      "image/png": "[encoded data removed]",
      "text/plain": [
       "<Figure size 432x288 with 1 Axes>"
      ]
     },
     "metadata": {
      "needs_background": "light"
     },
     "output_type": "display_data"
    },
    {
     "data": {
      "image/png": "[encoded data removed]",
      "text/plain": [
       "<Figure size 432x288 with 1 Axes>"
      ]
     },
     "metadata": {
      "needs_background": "light"
     },
     "output_type": "display_data"
    },
    {
     "data": {
      "text/plain": [
       "country_region\n",
       "Jordan          -89.714286\n",
       "The Bahamas     -89.285714\n",
       "Mauritius       -88.857143\n",
       "Réunion         -88.142857\n",
       "Peru            -88.142857\n",
       "                   ...    \n",
       "Cameroon        -25.428571\n",
       "Tanzania        -25.285714\n",
       "Taiwan          -23.571429\n",
       "Yemen           -17.000000\n",
       "Guinea-Bissau          NaN\n",
       "Name: transit_stations_percent_change_from_baseline, Length: 132, dtype: float64"
      ]
     },
     "execution_count": 105,
     "metadata": {},
     "output_type": "execute_result"
    }
   ],
   "source": [
    "# transit stations\n",
    "sort_and_plot('transit_stations_percent_change_from_baseline', df=min_week_df)"
   ]
  },
  {
   "cell_type": "code",
   "execution_count": 106,
   "metadata": {
    "scrolled": false
   },
   "outputs": [
    {
     "data": {
      "image/png": "[encoded data removed]",
      "text/plain": [
       "<Figure size 432x288 with 1 Axes>"
      ]
     },
     "metadata": {
      "needs_background": "light"
     },
     "output_type": "display_data"
    },
    {
     "data": {
      "image/png": "[encoded data removed]",
      "text/plain": [
       "<Figure size 432x288 with 1 Axes>"
      ]
     },
     "metadata": {
      "needs_background": "light"
     },
     "output_type": "display_data"
    },
    {
     "data": {
      "text/plain": [
       "country_region\n",
       "Barbados              -81.714286\n",
       "Mauritius             -81.428571\n",
       "Peru                  -78.714286\n",
       "Bolivia               -78.000000\n",
       "Antigua and Barbuda   -77.714286\n",
       "                         ...    \n",
       "Benin                 -16.428571\n",
       "Mali                  -12.714286\n",
       "Taiwan                -11.571429\n",
       "Yemen                  -9.750000\n",
       "Papua New Guinea       -9.571429\n",
       "Name: workplaces_percent_change_from_baseline, Length: 132, dtype: float64"
      ]
     },
     "execution_count": 106,
     "metadata": {},
     "output_type": "execute_result"
    }
   ],
   "source": [
    "# workplaces\n",
    "sort_and_plot('workplaces_percent_change_from_baseline', df=min_week_df)"
   ]
  },
  {
   "cell_type": "code",
   "execution_count": 107,
   "metadata": {
    "scrolled": true
   },
   "outputs": [
    {
     "data": {
      "image/png": "[encoded data removed]",
      "text/plain": [
       "<Figure size 432x288 with 1 Axes>"
      ]
     },
     "metadata": {
      "needs_background": "light"
     },
     "output_type": "display_data"
    },
    {
     "data": {
      "image/png": "[encoded data removed]",
      "text/plain": [
       "<Figure size 432x288 with 1 Axes>"
      ]
     },
     "metadata": {
      "needs_background": "light"
     },
     "output_type": "display_data"
    },
    {
     "data": {
      "text/plain": [
       "country_region\n",
       "Yemen             6.500000\n",
       "Taiwan            6.571429\n",
       "Belarus           7.714286\n",
       "South Korea       9.857143\n",
       "Haiti            10.714286\n",
       "                   ...    \n",
       "Zimbabwe         40.857143\n",
       "Singapore        41.142857\n",
       "Guinea-Bissau          NaN\n",
       "Liechtenstein          NaN\n",
       "Réunion                NaN\n",
       "Name: residential_percent_change_from_baseline, Length: 132, dtype: float64"
      ]
     },
     "execution_count": 107,
     "metadata": {},
     "output_type": "execute_result"
    }
   ],
   "source": [
    "# for resedential it is different because people will spend more time at home. for that reason max() is used\n",
    "\n",
    "# residential\n",
    "sort_and_plot('residential_percent_change_from_baseline', op='max', df=min_week_df)"
   ]
  },
  {
   "cell_type": "markdown",
   "metadata": {},
   "source": [
    "#### Correlate the number of corona cases with changes in mobility"
   ]
  },
  {
   "cell_type": "code",
   "execution_count": 108,
   "metadata": {
    "scrolled": true
   },
   "outputs": [
    {
     "data": {
      "text/plain": [
       "retail_and_recreation_percent_change_from_baseline   -0.115086\n",
       "grocery_and_pharmacy_percent_change_from_baseline    -0.047482\n",
       "parks_percent_change_from_baseline                   -0.026460\n",
       "transit_stations_percent_change_from_baseline        -0.114324\n",
       "workplaces_percent_change_from_baseline              -0.130336\n",
       "residential_percent_change_from_baseline              0.103888\n",
       "corona_cases                                          1.000000\n",
       "dtype: float64"
      ]
     },
     "execution_count": 108,
     "metadata": {},
     "output_type": "execute_result"
    }
   ],
   "source": [
    "# pearson correlation\n",
    "mobil_df_new.corrwith(mobil_df_new.corona_cases, method='pearson')"
   ]
  },
  {
   "cell_type": "code",
   "execution_count": 109,
   "metadata": {
    "scrolled": false
   },
   "outputs": [
    {
     "data": {
      "text/plain": [
       "retail_and_recreation_percent_change_from_baseline   -0.523007\n",
       "grocery_and_pharmacy_percent_change_from_baseline    -0.358602\n",
       "parks_percent_change_from_baseline                   -0.310559\n",
       "transit_stations_percent_change_from_baseline        -0.502600\n",
       "workplaces_percent_change_from_baseline              -0.496179\n",
       "residential_percent_change_from_baseline              0.504657\n",
       "corona_cases                                          1.000000\n",
       "dtype: float64"
      ]
     },
     "execution_count": 109,
     "metadata": {},
     "output_type": "execute_result"
    }
   ],
   "source": [
    "# kendall correlation\n",
    "mobil_df_new.corrwith(mobil_df_new.corona_cases, method='kendall')"
   ]
  },
  {
   "cell_type": "code",
   "execution_count": 110,
   "metadata": {
    "scrolled": true
   },
   "outputs": [
    {
     "data": {
      "text/plain": [
       "retail_and_recreation_percent_change_from_baseline   -0.724070\n",
       "grocery_and_pharmacy_percent_change_from_baseline    -0.533417\n",
       "parks_percent_change_from_baseline                   -0.415453\n",
       "transit_stations_percent_change_from_baseline        -0.704580\n",
       "workplaces_percent_change_from_baseline              -0.692679\n",
       "residential_percent_change_from_baseline              0.698243\n",
       "corona_cases                                          1.000000\n",
       "dtype: float64"
      ]
     },
     "execution_count": 110,
     "metadata": {},
     "output_type": "execute_result"
    }
   ],
   "source": [
    "# spearman correlation\n",
    "mobil_df_new.corrwith(mobil_df_new.corona_cases, method='spearman')"
   ]
  },
  {
   "cell_type": "code",
   "execution_count": 111,
   "metadata": {
    "scrolled": true
   },
   "outputs": [
    {
     "data": {
      "text/plain": [
       "'As demonstrated by the correlations, cases are least correlated with parks and grocery_and_pharmacy location types,\\n   which makes sense because grocery_and_pharmacy are essentials.'"
      ]
     },
     "execution_count": 111,
     "metadata": {},
     "output_type": "execute_result"
    }
   ],
   "source": [
    "'''As demonstrated by the correlations, cases are least correlated with parks and grocery_and_pharmacy location types,\n",
    "   which makes sense because grocery_and_pharmacy are essentials.'''"
   ]
  },
  {
   "cell_type": "markdown",
   "metadata": {},
   "source": [
    "### Justification"
   ]
  },
  {
   "cell_type": "markdown",
   "metadata": {},
   "source": [
    "**As shown by the results above, most countries reacted to the pandemic during late March-April. The results also show\n",
    "That countries neighboring China, European and South American countries had the earliest drop in mobility.**\n",
    "\n",
    "**As for countries/regions that had the most mobility drop, Reunion, Mauritius, The Bahamas, and Barbados islands\n",
    "are among the first. This might be due to tourists not visiting, especially that the data is from January,\n",
    "which might be a season to visit these islands. Jordan had the greatest drop in transit stations.\n",
    "This could be due to government enforcing a certain policy with regards to transit\n",
    "stations.**\n",
    "\n",
    "**Besides the islands: Spain, Italy, New Zealand, Srilanka, Bolivia, Peru, Argentina, and Jordan are the countries with\n",
    "greatest drop in mobility.**\n",
    "\n",
    "**The results indicate that islands with high tourism and countries in Europe and South America had the greatest drop in \n",
    "mobility. However, similar to Asia, European countries had a wide range of responses. Thus, the results also indicate\n",
    "that on average, North American countries experienced a greater drop in mobility.**\n",
    "\n",
    "**As for correlation between cases and change in mobility, cases are least correlated with parks and grocery_and_pharmacy location types,\n",
    "which makes sense because grocery_and_pharmacy are essentials. As for parks, the data cannot be relied upon too much because the baseline is taken from January, which means it's too cold many countries to go to the park. This explains why Scandinavian countries actually witnessed an increase in park visits rather than a decrease**\n",
    "\n",
    "**Explained earlier, the method of taking min day has several problems. The change in mobility could be due to a holiday or any other type of event that could cause a population to behave differently. As a way of preventing this, a 7-day average is taken. This doesn't completely end the problem, but it is a better way of analyzing mobility during the pandemic. To give an example, in the first method, Luxembourg was among the countries with greatest drop in workplaces. However, when looking more closely at the date in which it achieved a min, it was Easter Monday, which is a national holiday and the cause of a greater drop. Nonetheless, when taking a 7-day average Luxembourg is no longer among the countries with greatest drop in workplaces. The 7-day average is not a complete solution of the problem posed by this project, but it still yields interesting insights and mostly accurate results** "
   ]
  },
  {
   "cell_type": "markdown",
   "metadata": {},
   "source": [
    "## Conclusion"
   ]
  },
  {
   "cell_type": "markdown",
   "metadata": {},
   "source": [
    "### Reflection"
   ]
  },
  {
   "cell_type": "markdown",
   "metadata": {},
   "source": [
    "**The objective of this project is to find out how mobility was affected during the pandemic. Specifically, the aim is to observe the point where each country experienced least mobility. Mobility is also analyzed continent-wise. another aim of the project is to show whether there is a correlation between coronavirus cases and mobility**\n",
    "\n",
    "**To accomplish objectives above, two datasets are utilized, the first dataset (and principal one) looks at each country's change in mobility from an established baseline. Google Map is used to compute the baseline and find change for each day by measuring the time an indivisual spends at a certain location. The second dataset is a table of countries as rows and dates as columns, where the entries are the number of coronavirus cases**\n",
    "\n",
    "**After preprocessing the data, what remains is implementing methods to extract insights from the data to answer the questions posed by the problem. a min is taken for each country to find by what percentage and when a country experienced the greatest mobility drop. As an improvement of this method, a 7-day average is taken and then min is computed to find by what percentage and during which week did the country experience greatest mobility drop**\n",
    "\n",
    "**As for continents, countries are grouped toghether to compute the mean of the greatest drop and mean date**\n",
    "\n",
    "**As for correlation with coronavirus cases: Pearson, Kendall, and Spearman correlations are used**\n",
    "\n",
    "**One interesting aspect of the problem is the surprise when looking at the results. I did not expect that islands known for tourism would dominate the table for countries with greatest drop.**"
   ]
  },
  {
   "cell_type": "markdown",
   "metadata": {},
   "source": [
    "### improvement"
   ]
  },
  {
   "cell_type": "markdown",
   "metadata": {},
   "source": [
    "**Having a map showing the degree of mobility drop for each country would make for an easier reading of the results. One could take each location type, combine them together and get an average that would indicate degree of mobility. that average is then mapped to the country's geographical location**\n",
    "\n",
    "**Another improvement is to compute the mean over the whole period for each country. That would give a more general look at how the country's mobility was affected compared to taking min day and min week**"
   ]
  }
 ],
 "metadata": {
  "kernelspec": {
   "display_name": "Python 3",
   "language": "python",
   "name": "python3"
  },
  "language_info": {
   "codemirror_mode": {
    "name": "ipython",
    "version": 3
   },
   "file_extension": ".py",
   "mimetype": "text/x-python",
   "name": "python",
   "nbconvert_exporter": "python",
   "pygments_lexer": "ipython3",
   "version": "3.7.5"
  }
 },
 "nbformat": 4,
 "nbformat_minor": 2
}
